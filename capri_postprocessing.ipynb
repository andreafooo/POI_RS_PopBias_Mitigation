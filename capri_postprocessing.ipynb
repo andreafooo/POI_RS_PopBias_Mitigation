{
 "cells": [
  {
   "cell_type": "code",
   "execution_count": 30,
   "metadata": {},
   "outputs": [],
   "source": [
    "import pandas as pd\n",
    "import json\n",
    "import os\n",
    "from globals import BASE_DIR\n",
    "\n",
    "available_datasets = [\"foursquaretky\", \"yelp\", \"gowalla\", \"brightkite\", \"snowcard\"]"
   ]
  },
  {
   "cell_type": "code",
   "execution_count": 36,
   "metadata": {},
   "outputs": [
    {
     "name": "stdout",
     "output_type": "stream",
     "text": [
      "Metrics for foursquaretky_sample-contextpoi-LORE-Sep-16-2024_09-00-00: {'precision': 0.01067, 'recall': 0.01378, 'ndcg': 0.01216, 'map': 0.00548}\n",
      "Saved general_evaluation.json to /Volumes/Forster Neu/Masterarbeit Data/foursquaretky_dataset/recommendations/foursquaretky_sample-contextpoi-LORE-Sep-16-2024_09-00-00/general_evaluation.json\n",
      "Saved top_k_recommendations.json to /Volumes/Forster Neu/Masterarbeit Data/foursquaretky_dataset/recommendations/foursquaretky_sample-contextpoi-LORE-Sep-16-2024_09-00-00/top_k_recommendations.json\n",
      "Metrics for foursquaretky_sample-contextpoi-USG-Sep-16-2024_09-00-00: {'precision': 0.071, 'recall': 0.07067, 'ndcg': 0.08108, 'map': 0.04056}\n",
      "Saved general_evaluation.json to /Volumes/Forster Neu/Masterarbeit Data/foursquaretky_dataset/recommendations/foursquaretky_sample-contextpoi-USG-Sep-16-2024_09-00-00/general_evaluation.json\n",
      "Saved top_k_recommendations.json to /Volumes/Forster Neu/Masterarbeit Data/foursquaretky_dataset/recommendations/foursquaretky_sample-contextpoi-USG-Sep-16-2024_09-00-00/top_k_recommendations.json\n",
      "Metrics for yelp_sample-contextpoi-LORE-Sep-16-2024_09-00-00: {'precision': 0.01693, 'recall': 0.03898, 'ndcg': 0.02854, 'map': 0.01353}\n",
      "Saved general_evaluation.json to /Volumes/Forster Neu/Masterarbeit Data/yelp_dataset/recommendations/yelp_sample-contextpoi-LORE-Sep-16-2024_09-00-00/general_evaluation.json\n",
      "Saved top_k_recommendations.json to /Volumes/Forster Neu/Masterarbeit Data/yelp_dataset/recommendations/yelp_sample-contextpoi-LORE-Sep-16-2024_09-00-00/top_k_recommendations.json\n",
      "Metrics for yelp_sample-contextpoi-USG-Sep-16-2024_09-00-00: {'precision': 0.00027, 'recall': 0.00033, 'ndcg': 0.0004, 'map': 0.00017}\n",
      "Saved general_evaluation.json to /Volumes/Forster Neu/Masterarbeit Data/yelp_dataset/recommendations/yelp_sample-contextpoi-USG-Sep-16-2024_09-00-00/general_evaluation.json\n",
      "Saved top_k_recommendations.json to /Volumes/Forster Neu/Masterarbeit Data/yelp_dataset/recommendations/yelp_sample-contextpoi-USG-Sep-16-2024_09-00-00/top_k_recommendations.json\n",
      "Metrics for gowalla_sample-contextpoi-LORE-Sep-16-2024_09-00-00: {'precision': 0.04933, 'recall': 0.1866, 'ndcg': 0.13627, 'map': 0.09601}\n",
      "Saved general_evaluation.json to /Volumes/Forster Neu/Masterarbeit Data/gowalla_dataset/recommendations/gowalla_sample-contextpoi-LORE-Sep-16-2024_09-00-00/general_evaluation.json\n",
      "Saved top_k_recommendations.json to /Volumes/Forster Neu/Masterarbeit Data/gowalla_dataset/recommendations/gowalla_sample-contextpoi-LORE-Sep-16-2024_09-00-00/top_k_recommendations.json\n",
      "Metrics for gowalla_sample-contextpoi-USG-Sep-16-2024_09-00-00: {'precision': 0.0002, 'recall': 0.001, 'ndcg': 0.00041, 'map': 0.00014}\n",
      "Saved general_evaluation.json to /Volumes/Forster Neu/Masterarbeit Data/gowalla_dataset/recommendations/gowalla_sample-contextpoi-USG-Sep-16-2024_09-00-00/general_evaluation.json\n",
      "Saved top_k_recommendations.json to /Volumes/Forster Neu/Masterarbeit Data/gowalla_dataset/recommendations/gowalla_sample-contextpoi-USG-Sep-16-2024_09-00-00/top_k_recommendations.json\n",
      "Metrics for brightkite_sample-contextpoi-LORE-Sep-16-2024_09-00-00: {'precision': 0.0278, 'recall': 0.11956, 'ndcg': 0.08557, 'map': 0.06181}\n",
      "Saved general_evaluation.json to /Volumes/Forster Neu/Masterarbeit Data/brightkite_dataset/recommendations/brightkite_sample-contextpoi-LORE-Sep-16-2024_09-00-00/general_evaluation.json\n",
      "Saved top_k_recommendations.json to /Volumes/Forster Neu/Masterarbeit Data/brightkite_dataset/recommendations/brightkite_sample-contextpoi-LORE-Sep-16-2024_09-00-00/top_k_recommendations.json\n",
      "Metrics for brightkite_sample-contextpoi-USG-Sep-16-2024_09-00-00: {'precision': 0.0002, 'recall': 0.0005, 'ndcg': 0.00032, 'map': 0.00018}\n",
      "Saved general_evaluation.json to /Volumes/Forster Neu/Masterarbeit Data/brightkite_dataset/recommendations/brightkite_sample-contextpoi-USG-Sep-16-2024_09-00-00/general_evaluation.json\n",
      "Saved top_k_recommendations.json to /Volumes/Forster Neu/Masterarbeit Data/brightkite_dataset/recommendations/brightkite_sample-contextpoi-USG-Sep-16-2024_09-00-00/top_k_recommendations.json\n",
      "Metrics for snowcard_sample-contextpoi-LORE-Sep-16-2024_09-00-00: {'precision': 0.09867, 'recall': 0.15749, 'ndcg': 0.15026, 'map': 0.10039}\n",
      "Saved general_evaluation.json to /Volumes/Forster Neu/Masterarbeit Data/snowcard_dataset/recommendations/snowcard_sample-contextpoi-LORE-Sep-16-2024_09-00-00/general_evaluation.json\n",
      "Saved top_k_recommendations.json to /Volumes/Forster Neu/Masterarbeit Data/snowcard_dataset/recommendations/snowcard_sample-contextpoi-LORE-Sep-16-2024_09-00-00/top_k_recommendations.json\n",
      "Metrics for snowcard_sample-contextpoi-USG-Sep-16-2024_09-00-00: {'precision': 0.19567, 'recall': 0.28349, 'ndcg': 0.2519, 'map': 0.16948}\n",
      "Saved general_evaluation.json to /Volumes/Forster Neu/Masterarbeit Data/snowcard_dataset/recommendations/snowcard_sample-contextpoi-USG-Sep-16-2024_09-00-00/general_evaluation.json\n",
      "Saved top_k_recommendations.json to /Volumes/Forster Neu/Masterarbeit Data/snowcard_dataset/recommendations/snowcard_sample-contextpoi-USG-Sep-16-2024_09-00-00/top_k_recommendations.json\n"
     ]
    }
   ],
   "source": [
    "for dataset in available_datasets:\n",
    "    OUTPUT_DIR = f\"{BASE_DIR}{dataset}_dataset/recommendations/\"\n",
    "    recs = os.listdir(OUTPUT_DIR)\n",
    "    \n",
    "    if '.DS_Store' in recs:\n",
    "        recs.remove('.DS_Store')\n",
    "\n",
    "    capri_recs = []\n",
    "    for dir in recs:\n",
    "        if dir.split(\"-\")[1] == \"contextpoi\":  # Filter for contextpoi directories\n",
    "            capri_recs.append(dir)\n",
    "    \n",
    "    for dir in capri_recs:\n",
    "        # Get the correct directory path for the current dataset and capri_rec directory\n",
    "        dir_path = os.path.join(OUTPUT_DIR, dir)\n",
    "        files = os.listdir(dir_path)\n",
    "        \n",
    "        # Find the file that starts with 'Eval'\n",
    "        eval_file = next((f for f in files if f.startswith('Eval')), None)\n",
    "        \n",
    "        if eval_file:\n",
    "            eval_csv = os.path.join(dir_path, eval_file)  # Full path to the correct CSV file\n",
    "            json_file = os.path.join(dir_path, 'general_evaluation.json')\n",
    "\n",
    "            # Read the evaluation CSV into a pandas DataFrame\n",
    "            eval_df = pd.read_csv(eval_csv)\n",
    "\n",
    "            # Assuming the CSV has a single row with all the metrics, convert the row to a dictionary\n",
    "            metrics = eval_df.iloc[0].to_dict()\n",
    "            print(f\"Metrics for {dir}: {metrics}\")\n",
    "\n",
    "            # Create the structure for the JSON output\n",
    "            evaluation_data = {\n",
    "                \"test_result\": {\n",
    "                    \"recall@10\": metrics.get(\"recall\"),\n",
    "                    \"ndcg@10\": metrics.get(\"ndcg\"),\n",
    "                    \"precision@10\": metrics.get(\"precision\"),\n",
    "                    \"map@10\": metrics.get(\"map\")\n",
    "                }\n",
    "            }\n",
    "\n",
    "            # Write the evaluation data to a JSON file\n",
    "            with open(json_file, 'w') as f:\n",
    "                json.dump(evaluation_data, f, indent=4)\n",
    "\n",
    "            print(f\"Saved general_evaluation.json to {json_file}\")\n",
    "        else:\n",
    "            print(f\"No Eval file found in {dir_path}\")\n",
    "\n",
    "        # Find the file that starts with 'Rec'\n",
    "        rec_file = next((f for f in files if f.startswith('Rec')), None)\n",
    "        \n",
    "        if rec_file:\n",
    "            rec_txt = os.path.join(dir_path, rec_file)  # Full path to the Rec txt file\n",
    "            json_file = os.path.join(dir_path, 'top_k_recommendations.json')\n",
    "\n",
    "            # Create an empty dictionary to store the recommendations\n",
    "            recommendations = {}\n",
    "\n",
    "            # Read the Rec txt file\n",
    "            with open(rec_txt, 'r') as f:\n",
    "                for line in f:\n",
    "                    # Split the line into three components (index, user_id, item_ids)\n",
    "                    parts = line.strip().split(\"\\t\")\n",
    "                    \n",
    "                    if len(parts) == 3:\n",
    "                        user_id = parts[1]  # Second column is the user_id\n",
    "                        item_ids = parts[2].split(\",\")  # Third column is the comma-separated item_ids\n",
    "\n",
    "                        # Convert user_id and item_ids to strings with \"_x\" suffix\n",
    "                        user_id = f\"{user_id}_x\"\n",
    "                        item_ids = [f\"{item}_x\" for item in item_ids]\n",
    "\n",
    "                        # Add the recommendations to the dictionary\n",
    "                        recommendations[user_id] = [{\"item_id\": item_ids}]\n",
    "            \n",
    "            # Write the recommendations to a JSON file\n",
    "            with open(json_file, 'w') as f:\n",
    "                json.dump(recommendations, f, indent=4)\n",
    "\n",
    "            print(f\"Saved top_k_recommendations.json to {json_file}\")\n",
    "        else:\n",
    "            print(f\"No Rec file found in {dir_path}\")\n"
   ]
  },
  {
   "cell_type": "code",
   "execution_count": 18,
   "metadata": {},
   "outputs": [
    {
     "data": {
      "text/plain": [
       "['foursquaretky_sample-contextpoi-LORE-Sep-16-2024_09-00-00',\n",
       " 'foursquaretky_sample-contextpoi-USG-Sep-16-2024_09-00-00',\n",
       " 'yelp_sample-contextpoi-LORE-Sep-16-2024_09-00-00',\n",
       " 'yelp_sample-contextpoi-USG-Sep-16-2024_09-00-00',\n",
       " 'gowalla_sample-contextpoi-LORE-Sep-16-2024_09-00-00',\n",
       " 'gowalla_sample-contextpoi-USG-Sep-16-2024_09-00-00',\n",
       " 'brightkite_sample-contextpoi-LORE-Sep-16-2024_09-00-00',\n",
       " 'brightkite_sample-contextpoi-USG-Sep-16-2024_09-00-00',\n",
       " 'snowcard_sample-contextpoi-LORE-Sep-16-2024_09-00-00',\n",
       " 'snowcard_sample-contextpoi-USG-Sep-16-2024_09-00-00']"
      ]
     },
     "execution_count": 18,
     "metadata": {},
     "output_type": "execute_result"
    }
   ],
   "source": [
    "capri_recs"
   ]
  },
  {
   "cell_type": "code",
   "execution_count": null,
   "metadata": {},
   "outputs": [],
   "source": []
  }
 ],
 "metadata": {
  "kernelspec": {
   "display_name": "Python 3",
   "language": "python",
   "name": "python3"
  },
  "language_info": {
   "codemirror_mode": {
    "name": "ipython",
    "version": 3
   },
   "file_extension": ".py",
   "mimetype": "text/x-python",
   "name": "python",
   "nbconvert_exporter": "python",
   "pygments_lexer": "ipython3",
   "version": "3.11.8"
  }
 },
 "nbformat": 4,
 "nbformat_minor": 2
}
