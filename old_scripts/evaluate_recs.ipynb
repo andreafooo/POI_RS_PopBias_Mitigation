{
 "cells": [
  {
   "cell_type": "code",
   "execution_count": 1,
   "metadata": {},
   "outputs": [],
   "source": [
    "import pandas as pd\n",
    "import matplotlib.pyplot as plt"
   ]
  },
  {
   "cell_type": "code",
   "execution_count": null,
   "metadata": {},
   "outputs": [],
   "source": [
    "reranked_df = reranked_df[['user_id:token', 'item_id:token']]\n",
    "#base_resample = base_resample[['user_id:token', 'item_id:token']]\n",
    "calibrated_eval = calibrated_eval[['user_id:token', 'item_id:token']]"
   ]
  },
  {
   "cell_type": "code",
   "execution_count": null,
   "metadata": {},
   "outputs": [],
   "source": [
    "def plot_popularity_distribution(ax, data, item_popularity, user_groups, label):\n",
    "    # Merge the data\n",
    "    data = data.merge(item_popularity, on=\"item_id:token\", how=\"left\")\n",
    "\n",
    "    # Calculate normalized value counts for each user group\n",
    "    g1 = data.loc[data[\"user_id:token\"].isin(user_groups[\"high\"])].value_counts(\"item_pop_group\", normalize=True).rename(\"g1\")\n",
    "    g2 = data.loc[data[\"user_id:token\"].isin(user_groups[\"medium\"])].value_counts(\"item_pop_group\", normalize=True).rename(\"g2\")\n",
    "    g3 = data.loc[data[\"user_id:token\"].isin(user_groups[\"low\"])].value_counts(\"item_pop_group\", normalize=True).rename(\"g3\")\n",
    "\n",
    "    # Create a DataFrame from the Series\n",
    "    distr_df = pd.DataFrame([g1, g2, g3]).fillna(0)  # Fill NaNs with 0 for missing groups\n",
    "\n",
    "    # Specify the color order\n",
    "    colors = ['blue', 'green', 'red']  # h, m, t colors in order\n",
    "\n",
    "    # Plotting\n",
    "    distr_df.plot(kind='bar', stacked=True, ax=ax, color=colors, legend=False)\n",
    "\n",
    "    # Customize the plot\n",
    "    ax.set_title(f\"{label}\")\n",
    "    ax.set_xlabel(\"User Groups\")\n",
    "    ax.set_ylabel(\"Item Popularity Group Distribution\")\n",
    "\n",
    "    return distr_df, data\n"
   ]
  },
  {
   "cell_type": "code",
   "execution_count": null,
   "metadata": {},
   "outputs": [],
   "source": [
    "\n",
    "\n",
    "fig, axs = plt.subplots(2, 5, figsize=(18, 12))  # 2 rows, 5 columns\n",
    "# # Base Models\n",
    "plot_popularity_distribution(axs[0, 0], train_data, item_popularity, user_groups, \"Ground Truth\")\n",
    "plot_popularity_distribution(axs[0, 1], base_resample, item_popularity, user_groups, general_models[0])\n",
    "plot_popularity_distribution(axs[0, 2], base_resample, item_popularity, user_groups, general_models[0])\n",
    "# plot_popularity_distribution(axs[0, 2], base_df_general2, item_popularity, user_groups, general_models[1])\n",
    "# plot_popularity_distribution(axs[0, 3], base_df_context1, item_popularity, user_groups, context_models[0])\n",
    "# plot_popularity_distribution(axs[0, 4], base_df_context2, item_popularity, user_groups, context_models[1])\n",
    "\n",
    "# # Calibrated Models\n",
    "plot_popularity_distribution(axs[1, 0], train_data, item_popularity, user_groups, \"Ground Truth\")\n",
    "plot_popularity_distribution(axs[1, 1], reranked_df, item_popularity, user_groups, \"CP Rerank\")\n",
    "plot_popularity_distribution(axs[1, 2], calibrated_eval_general1, item_popularity, user_groups, \"UPD Rerank\")\n",
    "# plot_popularity_distribution(axs[1, 3], calibrated_df_context1, item_popularity, user_groups, context_models[0])\n",
    "# plot_popularity_distribution(axs[1, 4], calibrated_df_context2, item_popularity, user_groups, context_models[1])\n",
    "\n",
    "fig.suptitle(f\"Item-Popularity Distribution for dataset: {dataset}\\n base models vs. calibratedred from k={top_k_resample}; cold users/items removed\", fontsize=16)\n",
    "\n",
    "# handles = [plt.Line2D([0], [0], color=color, lw=4) for color in ['blue', 'green', 'red']]\n",
    "# labels = ['h', 'm', 't']\n",
    "# fig.legend(handles, labels, title=\"Item Popularity Groups\", loc='upper center', bbox_to_anchor=(0.5, 0.945), ncol=3)\n",
    "# plt.tight_layout(rect=[0, 0, 1, 0.95])\n",
    "# plt.savefig(f\"{BASE_DIR}{dataset}_dataset/plots/item_popularity_distribution.png\")\n",
    "# plt.show()"
   ]
  },
  {
   "cell_type": "code",
   "execution_count": null,
   "metadata": {},
   "outputs": [],
   "source": []
  },
  {
   "cell_type": "code",
   "execution_count": null,
   "metadata": {},
   "outputs": [],
   "source": []
  }
 ],
 "metadata": {
  "kernelspec": {
   "display_name": "prep_venv",
   "language": "python",
   "name": "python3"
  },
  "language_info": {
   "codemirror_mode": {
    "name": "ipython",
    "version": 3
   },
   "file_extension": ".py",
   "mimetype": "text/x-python",
   "name": "python",
   "nbconvert_exporter": "python",
   "pygments_lexer": "ipython3",
   "version": "3.11.8"
  }
 },
 "nbformat": 4,
 "nbformat_minor": 2
}
