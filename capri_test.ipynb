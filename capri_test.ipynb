{
 "cells": [
  {
   "cell_type": "code",
   "execution_count": 18,
   "metadata": {},
   "outputs": [],
   "source": [
    "import pandas as pd"
   ]
  },
  {
   "cell_type": "code",
   "execution_count": 19,
   "metadata": {},
   "outputs": [],
   "source": [
    "df = pd.read_csv('checkins copy.txt', sep=\"\\t\", header=None, names=['user_id', 'item_id', 'timestamp'])"
   ]
  },
  {
   "cell_type": "code",
   "execution_count": 20,
   "metadata": {},
   "outputs": [],
   "source": [
    "df['checkin_count'] = df.groupby(['user_id', 'item_id'])['item_id'].transform('count')"
   ]
  },
  {
   "cell_type": "code",
   "execution_count": 21,
   "metadata": {},
   "outputs": [],
   "source": [
    "df.sort_values(by='checkin_count', ascending=False, inplace=True)"
   ]
  },
  {
   "cell_type": "code",
   "execution_count": 22,
   "metadata": {},
   "outputs": [
    {
     "data": {
      "text/plain": [
       "array([239, 207, 180, 173, 166, 158, 154, 140, 135, 131, 118, 115, 114,\n",
       "       111, 110, 109, 103, 102,  99,  96,  94,  87,  86,  85,  84,  83,\n",
       "        82,  81,  79,  78,  77,  75,  73,  72,  71,  70,  69,  67,  66,\n",
       "        65,  64,  63,  62,  60,  59,  58,  57,  56,  55,  54,  53,  52,\n",
       "        51,  50,  49,  48,  47,  46,  45,  44,  43,  42,  41,  40,  39,\n",
       "        38,  37,  36,  35,  34,  33,  32,  31,  30,  29,  28,  27,  26,\n",
       "        25,  24,  23,  22,  21,  20,  19,  18,  17,  16,  15,  14,  13,\n",
       "        12,  11,  10,   9,   8,   7,   6,   5,   4,   3,   2,   1])"
      ]
     },
     "execution_count": 22,
     "metadata": {},
     "output_type": "execute_result"
    }
   ],
   "source": [
    "df[\"checkin_count\"].unique()"
   ]
  },
  {
   "cell_type": "code",
   "execution_count": 26,
   "metadata": {},
   "outputs": [],
   "source": [
    "list = [\"train.txt\", \"test.txt\", \"tune.txt\"]\n",
    "df_list = []\n",
    "for i in list:\n",
    "    df = pd.read_csv(i, sep=\"\\t\", header=None, names=['user_id', 'item_id', 'checkin_count'])\n",
    "    df_list.append(df)\n",
    "\n",
    "full_data = pd.concat(df_list)"
   ]
  },
  {
   "cell_type": "code",
   "execution_count": 30,
   "metadata": {},
   "outputs": [],
   "source": [
    "full_data.sort_values(by='checkin_count', ascending=False, inplace=True)"
   ]
  },
  {
   "cell_type": "code",
   "execution_count": 31,
   "metadata": {},
   "outputs": [
    {
     "data": {
      "text/html": [
       "<div>\n",
       "<style scoped>\n",
       "    .dataframe tbody tr th:only-of-type {\n",
       "        vertical-align: middle;\n",
       "    }\n",
       "\n",
       "    .dataframe tbody tr th {\n",
       "        vertical-align: top;\n",
       "    }\n",
       "\n",
       "    .dataframe thead th {\n",
       "        text-align: right;\n",
       "    }\n",
       "</style>\n",
       "<table border=\"1\" class=\"dataframe\">\n",
       "  <thead>\n",
       "    <tr style=\"text-align: right;\">\n",
       "      <th></th>\n",
       "      <th>user_id</th>\n",
       "      <th>item_id</th>\n",
       "      <th>checkin_count</th>\n",
       "    </tr>\n",
       "  </thead>\n",
       "  <tbody>\n",
       "    <tr>\n",
       "      <th>11105</th>\n",
       "      <td>2820</td>\n",
       "      <td>6321</td>\n",
       "      <td>12</td>\n",
       "    </tr>\n",
       "    <tr>\n",
       "      <th>46287</th>\n",
       "      <td>2820</td>\n",
       "      <td>6321</td>\n",
       "      <td>12</td>\n",
       "    </tr>\n",
       "    <tr>\n",
       "      <th>46283</th>\n",
       "      <td>2820</td>\n",
       "      <td>6321</td>\n",
       "      <td>12</td>\n",
       "    </tr>\n",
       "    <tr>\n",
       "      <th>46284</th>\n",
       "      <td>2820</td>\n",
       "      <td>6321</td>\n",
       "      <td>12</td>\n",
       "    </tr>\n",
       "    <tr>\n",
       "      <th>46285</th>\n",
       "      <td>2820</td>\n",
       "      <td>6321</td>\n",
       "      <td>12</td>\n",
       "    </tr>\n",
       "    <tr>\n",
       "      <th>...</th>\n",
       "      <td>...</td>\n",
       "      <td>...</td>\n",
       "      <td>...</td>\n",
       "    </tr>\n",
       "    <tr>\n",
       "      <th>26586</th>\n",
       "      <td>1229</td>\n",
       "      <td>31780</td>\n",
       "      <td>1</td>\n",
       "    </tr>\n",
       "    <tr>\n",
       "      <th>26588</th>\n",
       "      <td>1229</td>\n",
       "      <td>12310</td>\n",
       "      <td>1</td>\n",
       "    </tr>\n",
       "    <tr>\n",
       "      <th>26589</th>\n",
       "      <td>1229</td>\n",
       "      <td>8146</td>\n",
       "      <td>1</td>\n",
       "    </tr>\n",
       "    <tr>\n",
       "      <th>26590</th>\n",
       "      <td>1229</td>\n",
       "      <td>23692</td>\n",
       "      <td>1</td>\n",
       "    </tr>\n",
       "    <tr>\n",
       "      <th>11469</th>\n",
       "      <td>2999</td>\n",
       "      <td>17089</td>\n",
       "      <td>1</td>\n",
       "    </tr>\n",
       "  </tbody>\n",
       "</table>\n",
       "<p>75469 rows × 3 columns</p>\n",
       "</div>"
      ],
      "text/plain": [
       "       user_id  item_id  checkin_count\n",
       "11105     2820     6321             12\n",
       "46287     2820     6321             12\n",
       "46283     2820     6321             12\n",
       "46284     2820     6321             12\n",
       "46285     2820     6321             12\n",
       "...        ...      ...            ...\n",
       "26586     1229    31780              1\n",
       "26588     1229    12310              1\n",
       "26589     1229     8146              1\n",
       "26590     1229    23692              1\n",
       "11469     2999    17089              1\n",
       "\n",
       "[75469 rows x 3 columns]"
      ]
     },
     "execution_count": 31,
     "metadata": {},
     "output_type": "execute_result"
    }
   ],
   "source": [
    "full_data"
   ]
  },
  {
   "cell_type": "code",
   "execution_count": null,
   "metadata": {},
   "outputs": [],
   "source": []
  }
 ],
 "metadata": {
  "kernelspec": {
   "display_name": "prep_venv",
   "language": "python",
   "name": "python3"
  },
  "language_info": {
   "codemirror_mode": {
    "name": "ipython",
    "version": 3
   },
   "file_extension": ".py",
   "mimetype": "text/x-python",
   "name": "python",
   "nbconvert_exporter": "python",
   "pygments_lexer": "ipython3",
   "version": "3.11.8"
  }
 },
 "nbformat": 4,
 "nbformat_minor": 2
}
