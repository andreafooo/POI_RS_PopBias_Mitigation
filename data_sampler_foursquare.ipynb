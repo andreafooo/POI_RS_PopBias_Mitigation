{
 "cells": [
  {
   "cell_type": "code",
   "execution_count": 3,
   "metadata": {},
   "outputs": [],
   "source": [
    "import pandas as pd\n",
    "import os\n",
    "\n",
    "\n",
    "dataset = \"foursquarenyc\"\n",
    "\n",
    "DATASET_DIR = f\"/Volumes/Forster Neu/Masterarbeit Data/{dataset}_dataset/\"\n"
   ]
  },
  {
   "cell_type": "code",
   "execution_count": 4,
   "metadata": {},
   "outputs": [],
   "source": [
    "checkin_df = pd.read_csv(DATASET_DIR + \"foursquare_data.csv\", sep=\",\")"
   ]
  },
  {
   "cell_type": "code",
   "execution_count": 5,
   "metadata": {},
   "outputs": [
    {
     "data": {
      "text/html": [
       "<div>\n",
       "<style scoped>\n",
       "    .dataframe tbody tr th:only-of-type {\n",
       "        vertical-align: middle;\n",
       "    }\n",
       "\n",
       "    .dataframe tbody tr th {\n",
       "        vertical-align: top;\n",
       "    }\n",
       "\n",
       "    .dataframe thead th {\n",
       "        text-align: right;\n",
       "    }\n",
       "</style>\n",
       "<table border=\"1\" class=\"dataframe\">\n",
       "  <thead>\n",
       "    <tr style=\"text-align: right;\">\n",
       "      <th></th>\n",
       "      <th>userId</th>\n",
       "      <th>venueId</th>\n",
       "      <th>venueCategoryId</th>\n",
       "      <th>venueCategory</th>\n",
       "      <th>latitude</th>\n",
       "      <th>longitude</th>\n",
       "      <th>timezoneOffset</th>\n",
       "      <th>utcTimestamp</th>\n",
       "    </tr>\n",
       "  </thead>\n",
       "  <tbody>\n",
       "    <tr>\n",
       "      <th>0</th>\n",
       "      <td>470</td>\n",
       "      <td>49bbd6c0f964a520f4531fe3</td>\n",
       "      <td>4bf58dd8d48988d127951735</td>\n",
       "      <td>Arts &amp; Crafts Store</td>\n",
       "      <td>40.719810</td>\n",
       "      <td>-74.002581</td>\n",
       "      <td>-240</td>\n",
       "      <td>Tue Apr 03 18:00:09 +0000 2012</td>\n",
       "    </tr>\n",
       "    <tr>\n",
       "      <th>1</th>\n",
       "      <td>979</td>\n",
       "      <td>4a43c0aef964a520c6a61fe3</td>\n",
       "      <td>4bf58dd8d48988d1df941735</td>\n",
       "      <td>Bridge</td>\n",
       "      <td>40.606800</td>\n",
       "      <td>-74.044170</td>\n",
       "      <td>-240</td>\n",
       "      <td>Tue Apr 03 18:00:25 +0000 2012</td>\n",
       "    </tr>\n",
       "    <tr>\n",
       "      <th>2</th>\n",
       "      <td>69</td>\n",
       "      <td>4c5cc7b485a1e21e00d35711</td>\n",
       "      <td>4bf58dd8d48988d103941735</td>\n",
       "      <td>Home (private)</td>\n",
       "      <td>40.716162</td>\n",
       "      <td>-73.883070</td>\n",
       "      <td>-240</td>\n",
       "      <td>Tue Apr 03 18:02:24 +0000 2012</td>\n",
       "    </tr>\n",
       "    <tr>\n",
       "      <th>3</th>\n",
       "      <td>395</td>\n",
       "      <td>4bc7086715a7ef3bef9878da</td>\n",
       "      <td>4bf58dd8d48988d104941735</td>\n",
       "      <td>Medical Center</td>\n",
       "      <td>40.745164</td>\n",
       "      <td>-73.982519</td>\n",
       "      <td>-240</td>\n",
       "      <td>Tue Apr 03 18:02:41 +0000 2012</td>\n",
       "    </tr>\n",
       "    <tr>\n",
       "      <th>4</th>\n",
       "      <td>87</td>\n",
       "      <td>4cf2c5321d18a143951b5cec</td>\n",
       "      <td>4bf58dd8d48988d1cb941735</td>\n",
       "      <td>Food Truck</td>\n",
       "      <td>40.740104</td>\n",
       "      <td>-73.989658</td>\n",
       "      <td>-240</td>\n",
       "      <td>Tue Apr 03 18:03:00 +0000 2012</td>\n",
       "    </tr>\n",
       "    <tr>\n",
       "      <th>...</th>\n",
       "      <td>...</td>\n",
       "      <td>...</td>\n",
       "      <td>...</td>\n",
       "      <td>...</td>\n",
       "      <td>...</td>\n",
       "      <td>...</td>\n",
       "      <td>...</td>\n",
       "      <td>...</td>\n",
       "    </tr>\n",
       "    <tr>\n",
       "      <th>227423</th>\n",
       "      <td>688</td>\n",
       "      <td>3fd66200f964a52000e71ee3</td>\n",
       "      <td>4bf58dd8d48988d1e7931735</td>\n",
       "      <td>Music Venue</td>\n",
       "      <td>40.733596</td>\n",
       "      <td>-74.003139</td>\n",
       "      <td>-300</td>\n",
       "      <td>Sat Feb 16 02:29:11 +0000 2013</td>\n",
       "    </tr>\n",
       "    <tr>\n",
       "      <th>227424</th>\n",
       "      <td>560</td>\n",
       "      <td>4bca32ff0687ef3be789dbcc</td>\n",
       "      <td>4bf58dd8d48988d16c941735</td>\n",
       "      <td>Burger Joint</td>\n",
       "      <td>40.745719</td>\n",
       "      <td>-73.993720</td>\n",
       "      <td>-300</td>\n",
       "      <td>Sat Feb 16 02:31:35 +0000 2013</td>\n",
       "    </tr>\n",
       "    <tr>\n",
       "      <th>227425</th>\n",
       "      <td>945</td>\n",
       "      <td>50a77716e4b0b5a9492f6f56</td>\n",
       "      <td>4bf58dd8d48988d103941735</td>\n",
       "      <td>Home (private)</td>\n",
       "      <td>40.854365</td>\n",
       "      <td>-73.883070</td>\n",
       "      <td>-300</td>\n",
       "      <td>Sat Feb 16 02:33:16 +0000 2013</td>\n",
       "    </tr>\n",
       "    <tr>\n",
       "      <th>227426</th>\n",
       "      <td>671</td>\n",
       "      <td>4514efe0f964a520e7391fe3</td>\n",
       "      <td>4bf58dd8d48988d11d941735</td>\n",
       "      <td>Bar</td>\n",
       "      <td>40.735981</td>\n",
       "      <td>-74.029309</td>\n",
       "      <td>-300</td>\n",
       "      <td>Sat Feb 16 02:34:31 +0000 2013</td>\n",
       "    </tr>\n",
       "    <tr>\n",
       "      <th>227427</th>\n",
       "      <td>942</td>\n",
       "      <td>4a1e0ca0f964a520bf7b1fe3</td>\n",
       "      <td>4bf58dd8d48988d116941735</td>\n",
       "      <td>Bar</td>\n",
       "      <td>40.726805</td>\n",
       "      <td>-73.957422</td>\n",
       "      <td>-300</td>\n",
       "      <td>Sat Feb 16 02:35:36 +0000 2013</td>\n",
       "    </tr>\n",
       "  </tbody>\n",
       "</table>\n",
       "<p>227428 rows × 8 columns</p>\n",
       "</div>"
      ],
      "text/plain": [
       "        userId                   venueId           venueCategoryId  \\\n",
       "0          470  49bbd6c0f964a520f4531fe3  4bf58dd8d48988d127951735   \n",
       "1          979  4a43c0aef964a520c6a61fe3  4bf58dd8d48988d1df941735   \n",
       "2           69  4c5cc7b485a1e21e00d35711  4bf58dd8d48988d103941735   \n",
       "3          395  4bc7086715a7ef3bef9878da  4bf58dd8d48988d104941735   \n",
       "4           87  4cf2c5321d18a143951b5cec  4bf58dd8d48988d1cb941735   \n",
       "...        ...                       ...                       ...   \n",
       "227423     688  3fd66200f964a52000e71ee3  4bf58dd8d48988d1e7931735   \n",
       "227424     560  4bca32ff0687ef3be789dbcc  4bf58dd8d48988d16c941735   \n",
       "227425     945  50a77716e4b0b5a9492f6f56  4bf58dd8d48988d103941735   \n",
       "227426     671  4514efe0f964a520e7391fe3  4bf58dd8d48988d11d941735   \n",
       "227427     942  4a1e0ca0f964a520bf7b1fe3  4bf58dd8d48988d116941735   \n",
       "\n",
       "              venueCategory   latitude  longitude  timezoneOffset  \\\n",
       "0       Arts & Crafts Store  40.719810 -74.002581            -240   \n",
       "1                    Bridge  40.606800 -74.044170            -240   \n",
       "2            Home (private)  40.716162 -73.883070            -240   \n",
       "3            Medical Center  40.745164 -73.982519            -240   \n",
       "4                Food Truck  40.740104 -73.989658            -240   \n",
       "...                     ...        ...        ...             ...   \n",
       "227423          Music Venue  40.733596 -74.003139            -300   \n",
       "227424         Burger Joint  40.745719 -73.993720            -300   \n",
       "227425       Home (private)  40.854365 -73.883070            -300   \n",
       "227426                  Bar  40.735981 -74.029309            -300   \n",
       "227427                  Bar  40.726805 -73.957422            -300   \n",
       "\n",
       "                          utcTimestamp  \n",
       "0       Tue Apr 03 18:00:09 +0000 2012  \n",
       "1       Tue Apr 03 18:00:25 +0000 2012  \n",
       "2       Tue Apr 03 18:02:24 +0000 2012  \n",
       "3       Tue Apr 03 18:02:41 +0000 2012  \n",
       "4       Tue Apr 03 18:03:00 +0000 2012  \n",
       "...                                ...  \n",
       "227423  Sat Feb 16 02:29:11 +0000 2013  \n",
       "227424  Sat Feb 16 02:31:35 +0000 2013  \n",
       "227425  Sat Feb 16 02:33:16 +0000 2013  \n",
       "227426  Sat Feb 16 02:34:31 +0000 2013  \n",
       "227427  Sat Feb 16 02:35:36 +0000 2013  \n",
       "\n",
       "[227428 rows x 8 columns]"
      ]
     },
     "execution_count": 5,
     "metadata": {},
     "output_type": "execute_result"
    }
   ],
   "source": [
    "checkin_df"
   ]
  },
  {
   "cell_type": "code",
   "execution_count": 6,
   "metadata": {},
   "outputs": [],
   "source": [
    "checkin_df.rename(columns={\"userId\": \"user_id\", \"venueId\": \"business_id\", \"venueCategoryId\" : \"category_id\", \"utcTimestamp\": \"timestamp\"}, inplace=True)"
   ]
  },
  {
   "cell_type": "code",
   "execution_count": 7,
   "metadata": {},
   "outputs": [
    {
     "data": {
      "text/plain": [
       "1083"
      ]
     },
     "execution_count": 7,
     "metadata": {},
     "output_type": "execute_result"
    }
   ],
   "source": [
    "checkin_df[\"user_id\"].nunique()"
   ]
  },
  {
   "cell_type": "code",
   "execution_count": 8,
   "metadata": {},
   "outputs": [
    {
     "name": "stdout",
     "output_type": "stream",
     "text": [
      "Number of users, number of POIs 1083 38333\n",
      "Sparsity: 0.9945217396687467\n"
     ]
    }
   ],
   "source": [
    "print(\"Number of users, number of POIs\", len(checkin_df[\"user_id\"].unique()), len(checkin_df[\"business_id\"].unique())\n",
    ")\n",
    "print(\"Sparsity:\", 1 - len(checkin_df) / (len(checkin_df[\"user_id\"].unique()) * len(checkin_df[\"business_id\"].unique())))"
   ]
  },
  {
   "cell_type": "code",
   "execution_count": 9,
   "metadata": {},
   "outputs": [],
   "source": [
    "def filter_df(df, min_reviews=10):\n",
    "    while True:\n",
    "        # Filter businesses with at least min_reviews reviews\n",
    "        business_counts = df[\"business_id\"].value_counts()\n",
    "        business_mask = df['business_id'].map(business_counts) >= min_reviews\n",
    "        df_filtered = df.loc[business_mask]\n",
    "\n",
    "        # Filter users with at least min_reviews reviews\n",
    "        user_counts = df_filtered['user_id'].value_counts()\n",
    "        user_mask = df_filtered['user_id'].map(user_counts) >= min_reviews\n",
    "        df_filtered = df_filtered.loc[user_mask]\n",
    "\n",
    "        # If the size of the filtered DataFrame didn't change, break the loop\n",
    "        if df_filtered.shape[0] == df.shape[0]:\n",
    "            break\n",
    "\n",
    "        # Update the DataFrame for the next iteration\n",
    "        df = df_filtered\n",
    "\n",
    "    return df_filtered"
   ]
  },
  {
   "cell_type": "code",
   "execution_count": 10,
   "metadata": {},
   "outputs": [],
   "source": [
    "checkin_df_filtered = filter_df(checkin_df, min_reviews=10)"
   ]
  },
  {
   "cell_type": "markdown",
   "metadata": {},
   "source": []
  },
  {
   "cell_type": "code",
   "execution_count": 11,
   "metadata": {},
   "outputs": [],
   "source": [
    "sep_num = int(checkin_df_filtered[\"user_id\"].nunique()/3)"
   ]
  },
  {
   "cell_type": "code",
   "execution_count": 12,
   "metadata": {},
   "outputs": [],
   "source": [
    "# Step 1: Calculate the value counts of `business_id`\n",
    "value_counts = checkin_df_filtered['business_id'].value_counts().reset_index()\n",
    "value_counts.columns = ['business_id', 'count']\n",
    "\n",
    "# Step 2: Normalize the counts y dividing by the maximum value count\n",
    "max_count = value_counts['count'].max()\n",
    "value_counts['business_popularity'] = value_counts['count'] / max_count\n",
    "\n",
    "# Step 3: Merge the normalized counts back into the original DataFrame\n",
    "checkin_df_filtered = checkin_df_filtered.merge(value_counts[['business_id', 'business_popularity']], on='business_id', how='left')\n"
   ]
  },
  {
   "cell_type": "code",
   "execution_count": 13,
   "metadata": {},
   "outputs": [],
   "source": [
    "def user_popularity_calculator(checkin_df_filtered, sep_num):\n",
    "    # Filter out instances with the specified business_id\n",
    "    try:\n",
    "        checkin_df_filtered = checkin_df_filtered[checkin_df_filtered['business_id'] != \"00000000000000000000000000000000\"]\n",
    "    except Exception as e:\n",
    "        print(\"No such field found to filter out\")\n",
    "    # Calculate average popularity per user\n",
    "    average_popularity_per_user = checkin_df_filtered.groupby('user_id')['business_popularity'].mean().reset_index()\n",
    "    average_popularity_per_user.columns = ['user_id', 'average_popularity']\n",
    "\n",
    "    average_popularity_per_user = average_popularity_per_user.sort_values(by=\"average_popularity\", ascending=False)\n",
    "\n",
    "    \n",
    "    # Sort by average popularity\n",
    "    \n",
    "\n",
    "    # Get top 1000 users\n",
    "    high_pop_user_df_sample = average_popularity_per_user.head(sep_num)\n",
    "    \n",
    "    # Get the middle 1000 users around the median\n",
    "    median_index = len(average_popularity_per_user) // 2\n",
    "    start_med_index = max(median_index -int (sep_num/2), 0)\n",
    "    end_med_index = min(median_index + int(sep_num/2), len(average_popularity_per_user))\n",
    "    med_pop_user_df_sample = average_popularity_per_user.iloc[start_med_index:end_med_index]\n",
    "    \n",
    "    # Get the lowest 1000 users\n",
    "    low_pop_user_df_sample = average_popularity_per_user.tail(sep_num)\n",
    "\n",
    "    unique_users = list(set(high_pop_user_df_sample[\"user_id\"].tolist() + med_pop_user_df_sample[\"user_id\"].tolist() + low_pop_user_df_sample[\"user_id\"].tolist()))\n",
    "\n",
    "    checkin_df_sample = checkin_df_filtered[checkin_df_filtered[\"user_id\"].isin(unique_users)]\n",
    "\n",
    "    checkin_df_sample = filter_df(checkin_df_sample, min_reviews=10)\n",
    "\n",
    "    checkin_df_sample = checkin_df_sample[checkin_df_sample[\"user_id\"].isin(unique_users)]\n",
    "\n",
    "\n",
    "    \n",
    "    return checkin_df_sample, high_pop_user_df_sample, med_pop_user_df_sample, low_pop_user_df_sample"
   ]
  },
  {
   "cell_type": "code",
   "execution_count": 14,
   "metadata": {},
   "outputs": [],
   "source": [
    "checkin_df_sample, high_pop_user_df_sample, medium_pop_user_df_sample, low_pop_user_df_sample = user_popularity_calculator(checkin_df_filtered, sep_num)"
   ]
  },
  {
   "cell_type": "code",
   "execution_count": 15,
   "metadata": {},
   "outputs": [
    {
     "data": {
      "text/plain": [
       "1082"
      ]
     },
     "execution_count": 15,
     "metadata": {},
     "output_type": "execute_result"
    }
   ],
   "source": [
    "len(checkin_df_sample[\"user_id\"].unique())"
   ]
  },
  {
   "cell_type": "code",
   "execution_count": 16,
   "metadata": {},
   "outputs": [
    {
     "data": {
      "text/plain": [
       "361"
      ]
     },
     "execution_count": 16,
     "metadata": {},
     "output_type": "execute_result"
    }
   ],
   "source": [
    "len(low_pop_user_df_sample)"
   ]
  },
  {
   "cell_type": "code",
   "execution_count": 17,
   "metadata": {},
   "outputs": [],
   "source": [
    "# def data_sample_maker(high_pop_user_df, medium_pop_user_df, low_pop_user_df, checkin_df_filtered):\n",
    "#     # sampling not necessary because the dataset is so small\n",
    "\n",
    "#     high_pop_user_df_sample = high_pop_user_df.copy()\n",
    "#     medium_pop_user_df_sample = medium_pop_user_df.copy()\n",
    "#     low_pop_user_df_sample = low_pop_user_df.copy()\n",
    "\n",
    "#     unique_users = list(set(high_pop_user_df_sample[\"user_id\"].tolist() + medium_pop_user_df_sample[\"user_id\"].tolist() + low_pop_user_df_sample[\"user_id\"].tolist()))\n",
    "\n",
    "#     checkin_df_sample = checkin_df_filtered.loc[checkin_df_filtered[\"user_id\"].isin(unique_users)]\n",
    "\n",
    "#     return checkin_df_sample, high_pop_user_df_sample, medium_pop_user_df_sample, low_pop_user_df_sample\n",
    "\n",
    "    "
   ]
  },
  {
   "cell_type": "code",
   "execution_count": 18,
   "metadata": {},
   "outputs": [],
   "source": [
    "# checkin_df_sample, high_pop_user_df_sample, medium_pop_user_df_sample, low_pop_user_df_sample = data_sample_maker(high_pop_user_df, medium_pop_user_df, low_pop_user_df, checkin_df_filtered)"
   ]
  },
  {
   "cell_type": "code",
   "execution_count": 19,
   "metadata": {},
   "outputs": [],
   "source": [
    "def data_saver(df, filename, framework):\n",
    "    if not os.path.exists(DATASET_DIR + \"processed_data_\" + framework):\n",
    "        os.makedirs(DATASET_DIR + \"processed_data_\" + framework)\n",
    "    \n",
    "    df.to_csv(DATASET_DIR + \"processed_data_\" + framework + \"/\" + filename + \".csv\")\n",
    "    print(\"Data saved as \" + framework + filename + \".csv\")\n",
    "    "
   ]
  },
  {
   "cell_type": "code",
   "execution_count": 20,
   "metadata": {},
   "outputs": [
    {
     "name": "stdout",
     "output_type": "stream",
     "text": [
      "Data saved as cornacuser_events.csv\n",
      "Data saved as cornachigh_pop_user_sample.csv\n",
      "Data saved as cornacmedium_pop_user_sample.csv\n",
      "Data saved as cornaclow_pop_user_sample.csv\n"
     ]
    }
   ],
   "source": [
    "# first of all saving data for cornac\n",
    "data_saver(checkin_df_sample, \"user_events\", \"cornac\")\n",
    "data_saver(high_pop_user_df_sample, \"high_pop_user_sample\", \"cornac\")\n",
    "data_saver(medium_pop_user_df_sample, \"medium_pop_user_sample\", \"cornac\")\n",
    "data_saver(low_pop_user_df_sample, \"low_pop_user_sample\", \"cornac\")\n"
   ]
  },
  {
   "cell_type": "code",
   "execution_count": 21,
   "metadata": {},
   "outputs": [],
   "source": [
    "def data_saver_recbole(df, framework, suffix):\n",
    "    \n",
    "    if not os.path.exists(DATASET_DIR + \"processed_data_\" + framework):\n",
    "        os.makedirs(DATASET_DIR + \"processed_data_\" + framework)\n",
    "\n",
    "    df.to_csv(f\"{DATASET_DIR}processed_data_{framework}/{dataset}_sample.{suffix}\", sep=\"\\t\", index=False)"
   ]
  },
  {
   "cell_type": "code",
   "execution_count": 22,
   "metadata": {},
   "outputs": [],
   "source": [
    "checkin_df_sample['review_id'] = range(1, len(checkin_df_sample) + 1)\n",
    "# Step 1: Group by user_id and business_id and count check-ins\n",
    "checkin_df_sample['checkin_count'] = checkin_df_sample.groupby(['user_id', 'business_id'])['business_id'].transform('count')\n"
   ]
  },
  {
   "cell_type": "code",
   "execution_count": 23,
   "metadata": {},
   "outputs": [],
   "source": [
    "business_sample = checkin_df_sample.groupby('business_id').first().reset_index()\n",
    "business_sample.rename(columns={\"latitude\":\"lat\", \"longitude\":\"lon\"}, inplace=True)\n",
    "business_sample = business_sample[[\"business_id\", \"lat\", \"lon\"]]\n"
   ]
  },
  {
   "cell_type": "code",
   "execution_count": 24,
   "metadata": {},
   "outputs": [],
   "source": [
    "user_df_sample = checkin_df_sample.groupby('user_id').size().reset_index(name='review_counts:float')\n",
    "checkin_df_sample = checkin_df_sample[[\"review_id\",\"user_id\",\"business_id\",\"timestamp\", \"checkin_count\"]]"
   ]
  },
  {
   "cell_type": "code",
   "execution_count": 25,
   "metadata": {},
   "outputs": [],
   "source": [
    "def convert_to_unix_timestamp(df, column_name):\n",
    "    \"\"\"\n",
    "    Convert a column of timestamps in a DataFrame to Unix timestamps.\n",
    "\n",
    "    Args:\n",
    "        df (pd.DataFrame): The DataFrame containing the timestamp column.\n",
    "        column_name (str): The name of the column with timestamps in \"%Y-%m-%d %H:%M:%S\" format.\n",
    "\n",
    "    Returns:\n",
    "        pd.DataFrame: The DataFrame with an additional column for Unix timestamps.\n",
    "    \"\"\"\n",
    "    # Convert the column to datetime objects\n",
    "    df[column_name] = pd.to_datetime(df[column_name], format=\"mixed\")\n",
    "    \n",
    "    # Convert datetime objects to Unix timestamps\n",
    "    df[f'{column_name}'] = df[column_name].apply(lambda x: x.timestamp())\n",
    "    \n",
    "    return df"
   ]
  },
  {
   "cell_type": "code",
   "execution_count": 26,
   "metadata": {},
   "outputs": [],
   "source": [
    "checkin_df_sample.rename(columns={\"user_id\":\"user_id:token\", \"business_id\":\"item_id:token\", \"checkin_count\":\"rating:float\", \"timestamp\":\"timestamp:float\", \"review_id\": \"review_id:token\"}, inplace=True)\n",
    "user_df_sample.rename(columns={\"user_id\":\"user_id:token\"}, inplace=True)\n",
    "business_sample.rename(columns={\"business_id\": \"item_id:token\", \"lat\" : \"lat:float\", \"lon\" : \"lon:float\"}, inplace=True)"
   ]
  },
  {
   "cell_type": "code",
   "execution_count": 27,
   "metadata": {},
   "outputs": [],
   "source": [
    "checkin_df_sample = convert_to_unix_timestamp(checkin_df_sample, \"timestamp:float\")"
   ]
  },
  {
   "cell_type": "code",
   "execution_count": 28,
   "metadata": {},
   "outputs": [],
   "source": [
    "checkin_df_sample = checkin_df_sample.loc[checkin_df_sample[\"rating:float\"] < 100]\n",
    "\n",
    "checkin_df_sample.sort_values(by=\"rating:float\", ascending=False)\n",
    "\n",
    "checkin_df_timestamps = checkin_df_sample.copy()\n",
    "\n",
    "checkin_df_sample = checkin_df_sample.drop_duplicates(subset=[\"user_id:token\", \"item_id:token\"], keep=\"first\")"
   ]
  },
  {
   "cell_type": "code",
   "execution_count": 29,
   "metadata": {},
   "outputs": [
    {
     "data": {
      "text/html": [
       "<div>\n",
       "<style scoped>\n",
       "    .dataframe tbody tr th:only-of-type {\n",
       "        vertical-align: middle;\n",
       "    }\n",
       "\n",
       "    .dataframe tbody tr th {\n",
       "        vertical-align: top;\n",
       "    }\n",
       "\n",
       "    .dataframe thead th {\n",
       "        text-align: right;\n",
       "    }\n",
       "</style>\n",
       "<table border=\"1\" class=\"dataframe\">\n",
       "  <thead>\n",
       "    <tr style=\"text-align: right;\">\n",
       "      <th></th>\n",
       "      <th>item_id:token</th>\n",
       "      <th>lat:float</th>\n",
       "      <th>lon:float</th>\n",
       "    </tr>\n",
       "  </thead>\n",
       "  <tbody>\n",
       "    <tr>\n",
       "      <th>0</th>\n",
       "      <td>3fd66200f964a52000e71ee3</td>\n",
       "      <td>40.733596</td>\n",
       "      <td>-74.003139</td>\n",
       "    </tr>\n",
       "    <tr>\n",
       "      <th>1</th>\n",
       "      <td>3fd66200f964a52001e81ee3</td>\n",
       "      <td>40.756377</td>\n",
       "      <td>-73.967653</td>\n",
       "    </tr>\n",
       "    <tr>\n",
       "      <th>2</th>\n",
       "      <td>3fd66200f964a52003e71ee3</td>\n",
       "      <td>40.739685</td>\n",
       "      <td>-74.006020</td>\n",
       "    </tr>\n",
       "    <tr>\n",
       "      <th>3</th>\n",
       "      <td>3fd66200f964a52004e41ee3</td>\n",
       "      <td>40.718363</td>\n",
       "      <td>-73.990817</td>\n",
       "    </tr>\n",
       "    <tr>\n",
       "      <th>4</th>\n",
       "      <td>3fd66200f964a52004e61ee3</td>\n",
       "      <td>40.722842</td>\n",
       "      <td>-73.994116</td>\n",
       "    </tr>\n",
       "    <tr>\n",
       "      <th>...</th>\n",
       "      <td>...</td>\n",
       "      <td>...</td>\n",
       "      <td>...</td>\n",
       "    </tr>\n",
       "    <tr>\n",
       "      <th>5127</th>\n",
       "      <td>50dff1a7e4b0a36649c8402e</td>\n",
       "      <td>40.743355</td>\n",
       "      <td>-73.932838</td>\n",
       "    </tr>\n",
       "    <tr>\n",
       "      <th>5128</th>\n",
       "      <td>50e24527e4b0748c864c538b</td>\n",
       "      <td>40.756945</td>\n",
       "      <td>-73.986011</td>\n",
       "    </tr>\n",
       "    <tr>\n",
       "      <th>5129</th>\n",
       "      <td>510188aae4b055abaa8e5ca7</td>\n",
       "      <td>40.889077</td>\n",
       "      <td>-74.108426</td>\n",
       "    </tr>\n",
       "    <tr>\n",
       "      <th>5130</th>\n",
       "      <td>510c9f9de4b0ec5cc005fc87</td>\n",
       "      <td>40.741677</td>\n",
       "      <td>-74.004831</td>\n",
       "    </tr>\n",
       "    <tr>\n",
       "      <th>5131</th>\n",
       "      <td>51140198e4b0874a568cde81</td>\n",
       "      <td>40.757790</td>\n",
       "      <td>-73.981934</td>\n",
       "    </tr>\n",
       "  </tbody>\n",
       "</table>\n",
       "<p>5132 rows × 3 columns</p>\n",
       "</div>"
      ],
      "text/plain": [
       "                 item_id:token  lat:float  lon:float\n",
       "0     3fd66200f964a52000e71ee3  40.733596 -74.003139\n",
       "1     3fd66200f964a52001e81ee3  40.756377 -73.967653\n",
       "2     3fd66200f964a52003e71ee3  40.739685 -74.006020\n",
       "3     3fd66200f964a52004e41ee3  40.718363 -73.990817\n",
       "4     3fd66200f964a52004e61ee3  40.722842 -73.994116\n",
       "...                        ...        ...        ...\n",
       "5127  50dff1a7e4b0a36649c8402e  40.743355 -73.932838\n",
       "5128  50e24527e4b0748c864c538b  40.756945 -73.986011\n",
       "5129  510188aae4b055abaa8e5ca7  40.889077 -74.108426\n",
       "5130  510c9f9de4b0ec5cc005fc87  40.741677 -74.004831\n",
       "5131  51140198e4b0874a568cde81  40.757790 -73.981934\n",
       "\n",
       "[5132 rows x 3 columns]"
      ]
     },
     "execution_count": 29,
     "metadata": {},
     "output_type": "execute_result"
    }
   ],
   "source": [
    "business_sample"
   ]
  },
  {
   "cell_type": "code",
   "execution_count": 30,
   "metadata": {},
   "outputs": [],
   "source": [
    "data_saver_recbole(checkin_df_sample, \"recbole\", \"inter\")\n",
    "data_saver_recbole(user_df_sample, \"recbole\", \"user\")\n",
    "data_saver_recbole(business_sample, \"recbole\", \"item\")"
   ]
  },
  {
   "cell_type": "code",
   "execution_count": 31,
   "metadata": {},
   "outputs": [],
   "source": [
    "# reverting to unix timestamps and only using the necessary columns\n",
    "review_df_sample = checkin_df_sample.copy()\n",
    "checkins_capri_min = checkin_df_timestamps[[\"user_id:token\", \"item_id:token\", \"timestamp:float\"]]\n",
    "\n",
    "checkins_capri_train_test_tune = review_df_sample[[\"user_id:token\", \"item_id:token\", \"timestamp:float\", \"rating:float\"]]"
   ]
  },
  {
   "cell_type": "code",
   "execution_count": 32,
   "metadata": {},
   "outputs": [],
   "source": [
    "# FINAL 3\n",
    "datasize_capri = pd.DataFrame(data={\"num_users\" : [len(checkins_capri_min[\"user_id:token\"].unique())], \"num_items\" : [len(checkins_capri_min[\"item_id:token\"].unique())]})"
   ]
  },
  {
   "cell_type": "code",
   "execution_count": 33,
   "metadata": {},
   "outputs": [],
   "source": [
    "# FINAL 4\n",
    "poi_coos_capri = business_sample.copy()\n",
    "user_df_sample = pd.concat([high_pop_user_df_sample, medium_pop_user_df_sample, low_pop_user_df_sample])"
   ]
  },
  {
   "cell_type": "code",
   "execution_count": 35,
   "metadata": {},
   "outputs": [
    {
     "data": {
      "text/html": [
       "<div>\n",
       "<style scoped>\n",
       "    .dataframe tbody tr th:only-of-type {\n",
       "        vertical-align: middle;\n",
       "    }\n",
       "\n",
       "    .dataframe tbody tr th {\n",
       "        vertical-align: top;\n",
       "    }\n",
       "\n",
       "    .dataframe thead th {\n",
       "        text-align: right;\n",
       "    }\n",
       "</style>\n",
       "<table border=\"1\" class=\"dataframe\">\n",
       "  <thead>\n",
       "    <tr style=\"text-align: right;\">\n",
       "      <th></th>\n",
       "      <th>item_id:token</th>\n",
       "      <th>lat:float</th>\n",
       "      <th>lon:float</th>\n",
       "    </tr>\n",
       "  </thead>\n",
       "  <tbody>\n",
       "    <tr>\n",
       "      <th>0</th>\n",
       "      <td>3fd66200f964a52000e71ee3</td>\n",
       "      <td>40.733596</td>\n",
       "      <td>-74.003139</td>\n",
       "    </tr>\n",
       "    <tr>\n",
       "      <th>1</th>\n",
       "      <td>3fd66200f964a52001e81ee3</td>\n",
       "      <td>40.756377</td>\n",
       "      <td>-73.967653</td>\n",
       "    </tr>\n",
       "    <tr>\n",
       "      <th>2</th>\n",
       "      <td>3fd66200f964a52003e71ee3</td>\n",
       "      <td>40.739685</td>\n",
       "      <td>-74.006020</td>\n",
       "    </tr>\n",
       "    <tr>\n",
       "      <th>3</th>\n",
       "      <td>3fd66200f964a52004e41ee3</td>\n",
       "      <td>40.718363</td>\n",
       "      <td>-73.990817</td>\n",
       "    </tr>\n",
       "    <tr>\n",
       "      <th>4</th>\n",
       "      <td>3fd66200f964a52004e61ee3</td>\n",
       "      <td>40.722842</td>\n",
       "      <td>-73.994116</td>\n",
       "    </tr>\n",
       "    <tr>\n",
       "      <th>...</th>\n",
       "      <td>...</td>\n",
       "      <td>...</td>\n",
       "      <td>...</td>\n",
       "    </tr>\n",
       "    <tr>\n",
       "      <th>5127</th>\n",
       "      <td>50dff1a7e4b0a36649c8402e</td>\n",
       "      <td>40.743355</td>\n",
       "      <td>-73.932838</td>\n",
       "    </tr>\n",
       "    <tr>\n",
       "      <th>5128</th>\n",
       "      <td>50e24527e4b0748c864c538b</td>\n",
       "      <td>40.756945</td>\n",
       "      <td>-73.986011</td>\n",
       "    </tr>\n",
       "    <tr>\n",
       "      <th>5129</th>\n",
       "      <td>510188aae4b055abaa8e5ca7</td>\n",
       "      <td>40.889077</td>\n",
       "      <td>-74.108426</td>\n",
       "    </tr>\n",
       "    <tr>\n",
       "      <th>5130</th>\n",
       "      <td>510c9f9de4b0ec5cc005fc87</td>\n",
       "      <td>40.741677</td>\n",
       "      <td>-74.004831</td>\n",
       "    </tr>\n",
       "    <tr>\n",
       "      <th>5131</th>\n",
       "      <td>51140198e4b0874a568cde81</td>\n",
       "      <td>40.757790</td>\n",
       "      <td>-73.981934</td>\n",
       "    </tr>\n",
       "  </tbody>\n",
       "</table>\n",
       "<p>5132 rows × 3 columns</p>\n",
       "</div>"
      ],
      "text/plain": [
       "                 item_id:token  lat:float  lon:float\n",
       "0     3fd66200f964a52000e71ee3  40.733596 -74.003139\n",
       "1     3fd66200f964a52001e81ee3  40.756377 -73.967653\n",
       "2     3fd66200f964a52003e71ee3  40.739685 -74.006020\n",
       "3     3fd66200f964a52004e41ee3  40.718363 -73.990817\n",
       "4     3fd66200f964a52004e61ee3  40.722842 -73.994116\n",
       "...                        ...        ...        ...\n",
       "5127  50dff1a7e4b0a36649c8402e  40.743355 -73.932838\n",
       "5128  50e24527e4b0748c864c538b  40.756945 -73.986011\n",
       "5129  510188aae4b055abaa8e5ca7  40.889077 -74.108426\n",
       "5130  510c9f9de4b0ec5cc005fc87  40.741677 -74.004831\n",
       "5131  51140198e4b0874a568cde81  40.757790 -73.981934\n",
       "\n",
       "[5132 rows x 3 columns]"
      ]
     },
     "execution_count": 35,
     "metadata": {},
     "output_type": "execute_result"
    }
   ],
   "source": [
    "poi_coos_capri"
   ]
  },
  {
   "cell_type": "code",
   "execution_count": 116,
   "metadata": {},
   "outputs": [
    {
     "name": "stderr",
     "output_type": "stream",
     "text": [
      "/var/folders/9q/p0b6nwnd5071040x3849mdvc0000gn/T/ipykernel_94972/352362220.py:1: SettingWithCopyWarning: \n",
      "A value is trying to be set on a copy of a slice from a DataFrame.\n",
      "Try using .loc[row_indexer,col_indexer] = value instead\n",
      "\n",
      "See the caveats in the documentation: https://pandas.pydata.org/pandas-docs/stable/user_guide/indexing.html#returning-a-view-versus-a-copy\n",
      "  checkins_capri_min['user_id_int'], user_id_map = pd.factorize(checkins_capri_min['user_id:token'])\n"
     ]
    }
   ],
   "source": [
    "checkins_capri_min['user_id_int'], user_id_map = pd.factorize(checkins_capri_min['user_id:token'])\n",
    "checkins_capri_min['business_id_int'], business_id_map = pd.factorize(checkins_capri_min['item_id:token'])\n",
    "\n",
    "# FINAL 2.0\n",
    "checkins_capri_min_int = checkins_capri_min[[\"user_id_int\", \"business_id_int\", \"timestamp:float\"]]\n",
    "# Create mapping dictionaries\n",
    "user_id_mapping = {original: i for i, original in enumerate(user_id_map)}\n",
    "business_id_mapping = {original: j for j, original in enumerate(business_id_map)}\n",
    "\n",
    "poi_coos_capri[\"business_id_int\"] = poi_coos_capri[\"item_id:token\"].map(business_id_mapping)\n",
    "# FINAL 2.0\n",
    "poi_coos_capri_int = poi_coos_capri[[\"business_id_int\", \"lat:float\", \"lon:float\"]]\n",
    "\n",
    "\n",
    "# FINAL 2.0\n",
    "\n",
    "checkins_capri_train_test_tune['user_id_int'] = checkins_capri_train_test_tune['user_id:token'].map(user_id_mapping)\n",
    "checkins_capri_train_test_tune['business_id_int'] = checkins_capri_train_test_tune['item_id:token'].map(business_id_mapping)"
   ]
  },
  {
   "cell_type": "code",
   "execution_count": 117,
   "metadata": {},
   "outputs": [],
   "source": [
    "checkins_capri_train_test_tune = checkins_capri_train_test_tune[[\"user_id_int\", \"business_id_int\", \"rating:float\", \"timestamp:float\"]]"
   ]
  },
  {
   "cell_type": "code",
   "execution_count": 118,
   "metadata": {},
   "outputs": [
    {
     "name": "stderr",
     "output_type": "stream",
     "text": [
      "/var/folders/9q/p0b6nwnd5071040x3849mdvc0000gn/T/ipykernel_94972/2553544415.py:1: SettingWithCopyWarning: \n",
      "A value is trying to be set on a copy of a slice from a DataFrame\n",
      "\n",
      "See the caveats in the documentation: https://pandas.pydata.org/pandas-docs/stable/user_guide/indexing.html#returning-a-view-versus-a-copy\n",
      "  poi_coos_capri_int.dropna(inplace=True)\n",
      "/var/folders/9q/p0b6nwnd5071040x3849mdvc0000gn/T/ipykernel_94972/2553544415.py:2: SettingWithCopyWarning: \n",
      "A value is trying to be set on a copy of a slice from a DataFrame.\n",
      "Try using .loc[row_indexer,col_indexer] = value instead\n",
      "\n",
      "See the caveats in the documentation: https://pandas.pydata.org/pandas-docs/stable/user_guide/indexing.html#returning-a-view-versus-a-copy\n",
      "  poi_coos_capri_int[\"business_id_int\"] = poi_coos_capri_int[\"business_id_int\"].astype(int)\n"
     ]
    }
   ],
   "source": [
    "poi_coos_capri_int.dropna(inplace=True)\n",
    "poi_coos_capri_int[\"business_id_int\"] = poi_coos_capri_int[\"business_id_int\"].astype(int)"
   ]
  },
  {
   "cell_type": "code",
   "execution_count": 119,
   "metadata": {},
   "outputs": [],
   "source": [
    "remaining_businesses = poi_coos_capri_int[\"business_id_int\"].values.tolist()"
   ]
  },
  {
   "cell_type": "code",
   "execution_count": 120,
   "metadata": {},
   "outputs": [],
   "source": [
    "def filter_remaining_businesses(df, remaining_businesses):\n",
    "    return df[df[\"business_id_int\"].isin(remaining_businesses)]\n"
   ]
  },
  {
   "cell_type": "code",
   "execution_count": 121,
   "metadata": {},
   "outputs": [
    {
     "name": "stdout",
     "output_type": "stream",
     "text": [
      "Train Set:\n",
      "      user_id_int  business_id_int  rating:float\n",
      "0               0                0             1\n",
      "1               0                1            25\n",
      "16              0               15             1\n",
      "5686            0              116             3\n",
      "5712            0             2366             1\n",
      "\n",
      "Validation Set:\n",
      "        user_id_int  business_id_int  rating:float\n",
      "121461            0             2739             1\n",
      "121505            0              185             1\n",
      "121525            0              401             1\n",
      "121558            0               65             1\n",
      "121779            0             4120             1\n",
      "\n",
      "Test Set:\n",
      "        user_id_int  business_id_int  rating:float\n",
      "127808            0             5811             2\n",
      "138497            0              820             1\n",
      "138696            0             6765             1\n",
      "139514            0              571             1\n",
      "157393            0               67             1\n"
     ]
    }
   ],
   "source": [
    "# splitting the data into train, test, and tune\n",
    "checkins_capri_train_test_tune = checkins_capri_train_test_tune.sort_values(by=[\"user_id_int\", \"timestamp:float\"])\n",
    "checkins_capri_train_test_tune = checkins_capri_train_test_tune[[\"user_id_int\", \"business_id_int\", \"rating:float\"]]\n",
    "\n",
    "# Split the data\n",
    "train_list = []\n",
    "val_list = []\n",
    "test_list = []\n",
    "\n",
    "for user, group in checkins_capri_train_test_tune.groupby('user_id_int'):\n",
    "    n = len(group)\n",
    "    train_end = int(n * 0.65)\n",
    "    val_end = int(n * 0.80)\n",
    "    \n",
    "    train_list.append(group.iloc[:train_end])\n",
    "    val_list.append(group.iloc[train_end:val_end])\n",
    "    test_list.append(group.iloc[val_end:])\n",
    "\n",
    "# Combine lists into DataFrames\n",
    "train_df = pd.concat(train_list)\n",
    "val_df = pd.concat(val_list)\n",
    "test_df = pd.concat(test_list)\n",
    "\n",
    "\n",
    "\n",
    "# Check the splits\n",
    "\n",
    "# FINAL 6-8\n",
    "print(\"Train Set:\")\n",
    "print(train_df.head())\n",
    "print(\"\\nValidation Set:\")\n",
    "print(val_df.head())\n",
    "print(\"\\nTest Set:\")\n",
    "print(test_df.head())\n"
   ]
  },
  {
   "cell_type": "code",
   "execution_count": 122,
   "metadata": {},
   "outputs": [
    {
     "data": {
      "text/html": [
       "<div>\n",
       "<style scoped>\n",
       "    .dataframe tbody tr th:only-of-type {\n",
       "        vertical-align: middle;\n",
       "    }\n",
       "\n",
       "    .dataframe tbody tr th {\n",
       "        vertical-align: top;\n",
       "    }\n",
       "\n",
       "    .dataframe thead th {\n",
       "        text-align: right;\n",
       "    }\n",
       "</style>\n",
       "<table border=\"1\" class=\"dataframe\">\n",
       "  <thead>\n",
       "    <tr style=\"text-align: right;\">\n",
       "      <th></th>\n",
       "      <th>user_id_int</th>\n",
       "      <th>business_id_int</th>\n",
       "      <th>rating:float</th>\n",
       "    </tr>\n",
       "  </thead>\n",
       "  <tbody>\n",
       "    <tr>\n",
       "      <th>0</th>\n",
       "      <td>0</td>\n",
       "      <td>0</td>\n",
       "      <td>1</td>\n",
       "    </tr>\n",
       "    <tr>\n",
       "      <th>1</th>\n",
       "      <td>0</td>\n",
       "      <td>1</td>\n",
       "      <td>25</td>\n",
       "    </tr>\n",
       "    <tr>\n",
       "      <th>16</th>\n",
       "      <td>0</td>\n",
       "      <td>15</td>\n",
       "      <td>1</td>\n",
       "    </tr>\n",
       "    <tr>\n",
       "      <th>5686</th>\n",
       "      <td>0</td>\n",
       "      <td>116</td>\n",
       "      <td>3</td>\n",
       "    </tr>\n",
       "    <tr>\n",
       "      <th>5712</th>\n",
       "      <td>0</td>\n",
       "      <td>2366</td>\n",
       "      <td>1</td>\n",
       "    </tr>\n",
       "    <tr>\n",
       "      <th>...</th>\n",
       "      <td>...</td>\n",
       "      <td>...</td>\n",
       "      <td>...</td>\n",
       "    </tr>\n",
       "    <tr>\n",
       "      <th>419845</th>\n",
       "      <td>2291</td>\n",
       "      <td>130</td>\n",
       "      <td>1</td>\n",
       "    </tr>\n",
       "    <tr>\n",
       "      <th>419904</th>\n",
       "      <td>2291</td>\n",
       "      <td>1942</td>\n",
       "      <td>1</td>\n",
       "    </tr>\n",
       "    <tr>\n",
       "      <th>420315</th>\n",
       "      <td>2291</td>\n",
       "      <td>156</td>\n",
       "      <td>1</td>\n",
       "    </tr>\n",
       "    <tr>\n",
       "      <th>421981</th>\n",
       "      <td>2291</td>\n",
       "      <td>903</td>\n",
       "      <td>4</td>\n",
       "    </tr>\n",
       "    <tr>\n",
       "      <th>428055</th>\n",
       "      <td>2291</td>\n",
       "      <td>888</td>\n",
       "      <td>1</td>\n",
       "    </tr>\n",
       "  </tbody>\n",
       "</table>\n",
       "<p>77769 rows × 3 columns</p>\n",
       "</div>"
      ],
      "text/plain": [
       "        user_id_int  business_id_int  rating:float\n",
       "0                 0                0             1\n",
       "1                 0                1            25\n",
       "16                0               15             1\n",
       "5686              0              116             3\n",
       "5712              0             2366             1\n",
       "...             ...              ...           ...\n",
       "419845         2291              130             1\n",
       "419904         2291             1942             1\n",
       "420315         2291              156             1\n",
       "421981         2291              903             4\n",
       "428055         2291              888             1\n",
       "\n",
       "[77769 rows x 3 columns]"
      ]
     },
     "execution_count": 122,
     "metadata": {},
     "output_type": "execute_result"
    }
   ],
   "source": [
    "train_df"
   ]
  },
  {
   "cell_type": "code",
   "execution_count": 123,
   "metadata": {},
   "outputs": [],
   "source": [
    "def datasaver_capri(df, filename):\n",
    "    \n",
    "    if not os.path.exists(DATASET_DIR + \"processed_data_capri\"):\n",
    "        os.makedirs(DATASET_DIR + \"processed_data_capri\")\n",
    "    \n",
    "    df.to_csv(DATASET_DIR + \"processed_data_capri/\" + filename + \".txt\", sep='\\t', index=False, header=False)\n",
    "    print(\"Data saved as \" + filename + \".txt\")\n",
    "    \n",
    "\n",
    "    \n"
   ]
  },
  {
   "cell_type": "code",
   "execution_count": 124,
   "metadata": {},
   "outputs": [
    {
     "data": {
      "text/html": [
       "<div>\n",
       "<style scoped>\n",
       "    .dataframe tbody tr th:only-of-type {\n",
       "        vertical-align: middle;\n",
       "    }\n",
       "\n",
       "    .dataframe tbody tr th {\n",
       "        vertical-align: top;\n",
       "    }\n",
       "\n",
       "    .dataframe thead th {\n",
       "        text-align: right;\n",
       "    }\n",
       "</style>\n",
       "<table border=\"1\" class=\"dataframe\">\n",
       "  <thead>\n",
       "    <tr style=\"text-align: right;\">\n",
       "      <th></th>\n",
       "      <th>user_id_int</th>\n",
       "      <th>business_id_int</th>\n",
       "      <th>timestamp:float</th>\n",
       "    </tr>\n",
       "  </thead>\n",
       "  <tbody>\n",
       "    <tr>\n",
       "      <th>0</th>\n",
       "      <td>0</td>\n",
       "      <td>0</td>\n",
       "      <td>1.333480e+09</td>\n",
       "    </tr>\n",
       "    <tr>\n",
       "      <th>1</th>\n",
       "      <td>0</td>\n",
       "      <td>1</td>\n",
       "      <td>1.333482e+09</td>\n",
       "    </tr>\n",
       "    <tr>\n",
       "      <th>3</th>\n",
       "      <td>1</td>\n",
       "      <td>2</td>\n",
       "      <td>1.333483e+09</td>\n",
       "    </tr>\n",
       "    <tr>\n",
       "      <th>4</th>\n",
       "      <td>2</td>\n",
       "      <td>3</td>\n",
       "      <td>1.333483e+09</td>\n",
       "    </tr>\n",
       "    <tr>\n",
       "      <th>5</th>\n",
       "      <td>2</td>\n",
       "      <td>4</td>\n",
       "      <td>1.333483e+09</td>\n",
       "    </tr>\n",
       "    <tr>\n",
       "      <th>...</th>\n",
       "      <td>...</td>\n",
       "      <td>...</td>\n",
       "      <td>...</td>\n",
       "    </tr>\n",
       "    <tr>\n",
       "      <th>447565</th>\n",
       "      <td>2279</td>\n",
       "      <td>6492</td>\n",
       "      <td>1.360982e+09</td>\n",
       "    </tr>\n",
       "    <tr>\n",
       "      <th>447566</th>\n",
       "      <td>2279</td>\n",
       "      <td>566</td>\n",
       "      <td>1.360982e+09</td>\n",
       "    </tr>\n",
       "    <tr>\n",
       "      <th>447567</th>\n",
       "      <td>667</td>\n",
       "      <td>2102</td>\n",
       "      <td>1.360982e+09</td>\n",
       "    </tr>\n",
       "    <tr>\n",
       "      <th>447568</th>\n",
       "      <td>2276</td>\n",
       "      <td>1127</td>\n",
       "      <td>1.360982e+09</td>\n",
       "    </tr>\n",
       "    <tr>\n",
       "      <th>447569</th>\n",
       "      <td>746</td>\n",
       "      <td>3826</td>\n",
       "      <td>1.360982e+09</td>\n",
       "    </tr>\n",
       "  </tbody>\n",
       "</table>\n",
       "<p>404408 rows × 3 columns</p>\n",
       "</div>"
      ],
      "text/plain": [
       "        user_id_int  business_id_int  timestamp:float\n",
       "0                 0                0     1.333480e+09\n",
       "1                 0                1     1.333482e+09\n",
       "3                 1                2     1.333483e+09\n",
       "4                 2                3     1.333483e+09\n",
       "5                 2                4     1.333483e+09\n",
       "...             ...              ...              ...\n",
       "447565         2279             6492     1.360982e+09\n",
       "447566         2279              566     1.360982e+09\n",
       "447567          667             2102     1.360982e+09\n",
       "447568         2276             1127     1.360982e+09\n",
       "447569          746             3826     1.360982e+09\n",
       "\n",
       "[404408 rows x 3 columns]"
      ]
     },
     "execution_count": 124,
     "metadata": {},
     "output_type": "execute_result"
    }
   ],
   "source": [
    "checkins_capri_min_int"
   ]
  },
  {
   "cell_type": "code",
   "execution_count": 125,
   "metadata": {},
   "outputs": [],
   "source": [
    "checkins_capri_min_int = filter_remaining_businesses(checkins_capri_min_int, remaining_businesses)\n",
    "poi_coos_capri_int = filter_remaining_businesses(poi_coos_capri_int, remaining_businesses)\n",
    "datasize_capri = pd.DataFrame(data={\"num_users\" : [len(checkins_capri_min_int[\"user_id_int\"].unique())], \"num_items\" : [len(checkins_capri_min_int[\"business_id_int\"].unique())]})\n",
    "train_df = filter_remaining_businesses(train_df, remaining_businesses)\n",
    "val_df = filter_remaining_businesses(val_df, remaining_businesses)\n",
    "test_df = filter_remaining_businesses(test_df, remaining_businesses)"
   ]
  },
  {
   "cell_type": "code",
   "execution_count": 36,
   "metadata": {},
   "outputs": [
    {
     "ename": "NameError",
     "evalue": "name 'datasaver_capri' is not defined",
     "output_type": "error",
     "traceback": [
      "\u001b[0;31m---------------------------------------------------------------------------\u001b[0m",
      "\u001b[0;31mNameError\u001b[0m                                 Traceback (most recent call last)",
      "Cell \u001b[0;32mIn[36], line 1\u001b[0m\n\u001b[0;32m----> 1\u001b[0m \u001b[43mdatasaver_capri\u001b[49m(checkins_capri_min_int, \u001b[38;5;124m\"\u001b[39m\u001b[38;5;124mcheckins\u001b[39m\u001b[38;5;124m\"\u001b[39m)\n\u001b[1;32m      2\u001b[0m datasaver_capri(datasize_capri, \u001b[38;5;124m\"\u001b[39m\u001b[38;5;124mdataSize\u001b[39m\u001b[38;5;124m\"\u001b[39m)\n\u001b[1;32m      3\u001b[0m datasaver_capri(poi_coos_capri_int, \u001b[38;5;124m\"\u001b[39m\u001b[38;5;124mpoiCoos\u001b[39m\u001b[38;5;124m\"\u001b[39m)\n",
      "\u001b[0;31mNameError\u001b[0m: name 'datasaver_capri' is not defined"
     ]
    }
   ],
   "source": [
    "datasaver_capri(checkins_capri_min_int, \"checkins\")\n",
    "datasaver_capri(datasize_capri, \"dataSize\")\n",
    "datasaver_capri(poi_coos_capri_int, \"poiCoos\")\n",
    "datasaver_capri(train_df, \"train\")\n",
    "datasaver_capri(val_df, \"tune\")\n",
    "datasaver_capri(test_df, \"test\")"
   ]
  },
  {
   "cell_type": "code",
   "execution_count": null,
   "metadata": {},
   "outputs": [],
   "source": []
  }
 ],
 "metadata": {
  "kernelspec": {
   "display_name": "prep_venv",
   "language": "python",
   "name": "python3"
  },
  "language_info": {
   "codemirror_mode": {
    "name": "ipython",
    "version": 3
   },
   "file_extension": ".py",
   "mimetype": "text/x-python",
   "name": "python",
   "nbconvert_exporter": "python",
   "pygments_lexer": "ipython3",
   "version": "3.11.8"
  }
 },
 "nbformat": 4,
 "nbformat_minor": 2
}
