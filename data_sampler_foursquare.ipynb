{
 "cells": [
  {
   "cell_type": "code",
   "execution_count": 159,
   "metadata": {},
   "outputs": [],
   "source": [
    "import pandas as pd\n",
    "import os\n",
    "\n",
    "\n",
    "dataset = \"foursquarenyc\"\n",
    "\n",
    "DATASET_DIR = f\"/Volumes/Forster Neu/Masterarbeit Data/{dataset}_dataset/\"\n"
   ]
  },
  {
   "cell_type": "code",
   "execution_count": 160,
   "metadata": {},
   "outputs": [],
   "source": [
    "checkin_df = pd.read_csv(DATASET_DIR + \"foursquare_data.csv\", sep=\",\")\n"
   ]
  },
  {
   "cell_type": "code",
   "execution_count": 161,
   "metadata": {},
   "outputs": [],
   "source": [
    "checkin_df.rename(columns={\"userId\": \"user_id\", \"venueId\": \"business_id\", \"venueCategoryId\" : \"category_id\", \"utcTimestamp\": \"timestamp\"}, inplace=True)"
   ]
  },
  {
   "cell_type": "code",
   "execution_count": 162,
   "metadata": {},
   "outputs": [
    {
     "name": "stdout",
     "output_type": "stream",
     "text": [
      "Number of users, number of POIs 1083 38333\n",
      "Sparsity: 0.9945217396687467\n"
     ]
    }
   ],
   "source": [
    "print(\"Number of users, number of POIs\", len(checkin_df[\"user_id\"].unique()), len(checkin_df[\"business_id\"].unique())\n",
    ")\n",
    "print(\"Sparsity:\", 1 - len(checkin_df) / (len(checkin_df[\"user_id\"].unique()) * len(checkin_df[\"business_id\"].unique())))"
   ]
  },
  {
   "cell_type": "code",
   "execution_count": 163,
   "metadata": {},
   "outputs": [],
   "source": [
    "# filtering out users and businesses with less than 10 reviews\n",
    "\n",
    "business_counts = checkin_df[\"business_id\"].value_counts()\n",
    "mask = checkin_df['business_id'].map(business_counts) >= 10\n",
    "checkin_df_filtered = checkin_df.loc[mask]\n",
    "\n",
    "counts = checkin_df_filtered ['user_id'].value_counts()\n",
    "mask = checkin_df_filtered ['user_id'].map(counts) >= 10\n",
    "checkin_df_filtered = checkin_df_filtered .loc[mask]"
   ]
  },
  {
   "cell_type": "code",
   "execution_count": 164,
   "metadata": {},
   "outputs": [
    {
     "data": {
      "text/plain": [
       "user_id\n",
       "293     2515\n",
       "185     1918\n",
       "354     1620\n",
       "315     1530\n",
       "974      967\n",
       "        ... \n",
       "627       25\n",
       "607       21\n",
       "693       20\n",
       "1069      19\n",
       "1073      17\n",
       "Name: count, Length: 1083, dtype: int64"
      ]
     },
     "execution_count": 164,
     "metadata": {},
     "output_type": "execute_result"
    }
   ],
   "source": [
    "checkin_df_filtered[\"user_id\"].value_counts()"
   ]
  },
  {
   "cell_type": "code",
   "execution_count": 165,
   "metadata": {},
   "outputs": [],
   "source": [
    "# Step 1: Calculate the value counts of `business_id`\n",
    "value_counts = checkin_df_filtered['business_id'].value_counts().reset_index()\n",
    "value_counts.columns = ['business_id', 'count']\n",
    "\n",
    "# Step 2: Normalize the counts by dividing by the maximum value count\n",
    "max_count = value_counts['count'].max()\n",
    "value_counts['business_popularity'] = value_counts['count'] / max_count\n",
    "\n",
    "# Step 3: Merge the normalized counts back into the original DataFrame\n",
    "checkin_df_filtered = checkin_df_filtered.merge(value_counts[['business_id', 'business_popularity']], on='business_id', how='left')\n"
   ]
  },
  {
   "cell_type": "code",
   "execution_count": 166,
   "metadata": {},
   "outputs": [],
   "source": [
    "def user_popularity_calculator(checkin_df_filtered):\n",
    "\n",
    "    average_popularity_per_user = checkin_df_filtered.groupby('user_id')['business_popularity'].mean().reset_index()\n",
    "    average_popularity_per_user.sort_values(by=\"business_popularity\", ascending=False)\n",
    "\n",
    "    \n",
    "    threshold_low = average_popularity_per_user['business_popularity'].quantile(0.2)\n",
    "    threshold_med = average_popularity_per_user['business_popularity'].quantile(0.8)\n",
    "    \n",
    "    # Filter users based on thresholds\n",
    "    high_pop_user_df = average_popularity_per_user[average_popularity_per_user['business_popularity'] >= threshold_med]\n",
    "    medium_pop_user_df = average_popularity_per_user[(average_popularity_per_user['business_popularity'] >= threshold_low) & (average_popularity_per_user['business_popularity'] < threshold_med)]\n",
    "    low_pop_user_df = average_popularity_per_user[average_popularity_per_user['business_popularity'] < threshold_low]\n",
    "\n",
    "\n",
    "\n",
    "    return high_pop_user_df, medium_pop_user_df, low_pop_user_df"
   ]
  },
  {
   "cell_type": "code",
   "execution_count": 167,
   "metadata": {},
   "outputs": [],
   "source": [
    "high_pop_user_df, medium_pop_user_df, low_pop_user_df = user_popularity_calculator(checkin_df_filtered)"
   ]
  },
  {
   "cell_type": "code",
   "execution_count": 168,
   "metadata": {},
   "outputs": [],
   "source": [
    "def data_sample_maker(high_pop_user_df, medium_pop_user_df, low_pop_user_df, checkin_df_filtered):\n",
    "    # sampling not necessary because the dataset is so small\n",
    "\n",
    "    high_pop_user_df_sample = high_pop_user_df.copy()\n",
    "    medium_pop_user_df_sample = medium_pop_user_df.copy()\n",
    "    low_pop_user_df_sample = low_pop_user_df.copy()\n",
    "\n",
    "    unique_users = list(set(high_pop_user_df_sample[\"user_id\"].tolist() + medium_pop_user_df_sample[\"user_id\"].tolist() + low_pop_user_df_sample[\"user_id\"].tolist()))\n",
    "\n",
    "    checkin_df_sample = checkin_df_filtered.loc[checkin_df_filtered[\"user_id\"].isin(unique_users)]\n",
    "\n",
    "    return checkin_df_sample, high_pop_user_df_sample, medium_pop_user_df_sample, low_pop_user_df_sample\n",
    "\n",
    "    "
   ]
  },
  {
   "cell_type": "code",
   "execution_count": 169,
   "metadata": {},
   "outputs": [],
   "source": [
    "checkin_df_sample, high_pop_user_df_sample, medium_pop_user_df_sample, low_pop_user_df_sample = data_sample_maker(high_pop_user_df, medium_pop_user_df, low_pop_user_df, checkin_df_filtered)"
   ]
  },
  {
   "cell_type": "code",
   "execution_count": 170,
   "metadata": {},
   "outputs": [],
   "source": [
    "def data_saver(df, filename, framework):\n",
    "    if not os.path.exists(DATASET_DIR + \"processed_data_\" + framework):\n",
    "        os.makedirs(DATASET_DIR + \"processed_data_\" + framework)\n",
    "    \n",
    "    df.to_csv(DATASET_DIR + \"processed_data_\" + framework + \"/\" + filename + \".csv\")\n",
    "    print(\"Data saved as \" + framework + filename + \".csv\")\n",
    "    "
   ]
  },
  {
   "cell_type": "code",
   "execution_count": 171,
   "metadata": {},
   "outputs": [
    {
     "name": "stdout",
     "output_type": "stream",
     "text": [
      "Data saved as cornacuser_events.csv\n",
      "Data saved as cornachigh_pop_user_sample.csv\n",
      "Data saved as cornacmedium_pop_user_sample.csv\n",
      "Data saved as cornaclow_pop_user_sample.csv\n"
     ]
    }
   ],
   "source": [
    "# first of all saving data for cornac\n",
    "data_saver(checkin_df_sample, \"user_events\", \"cornac\")\n",
    "data_saver(high_pop_user_df_sample, \"high_pop_user_sample\", \"cornac\")\n",
    "data_saver(medium_pop_user_df_sample, \"medium_pop_user_sample\", \"cornac\")\n",
    "data_saver(low_pop_user_df_sample, \"low_pop_user_sample\", \"cornac\")\n"
   ]
  },
  {
   "cell_type": "code",
   "execution_count": 172,
   "metadata": {},
   "outputs": [],
   "source": [
    "def data_saver_recbole(df, framework, suffix):\n",
    "    \n",
    "    if not os.path.exists(DATASET_DIR + \"processed_data_\" + framework):\n",
    "        os.makedirs(DATASET_DIR + \"processed_data_\" + framework)\n",
    "\n",
    "    df.to_csv(f\"{DATASET_DIR}processed_data_{framework}/{dataset}_sample.{suffix}\", sep=\"\\t\", index=False)"
   ]
  },
  {
   "cell_type": "code",
   "execution_count": 173,
   "metadata": {},
   "outputs": [],
   "source": [
    "checkin_df_sample['review_id'] = range(1, len(checkin_df_sample) + 1)"
   ]
  },
  {
   "cell_type": "code",
   "execution_count": 174,
   "metadata": {},
   "outputs": [],
   "source": [
    "# Step 1: Group by user_id and business_id and count check-ins\n",
    "checkin_df_sample['checkin_count'] = checkin_df_sample.groupby(['user_id', 'business_id'])['business_id'].transform('count')\n"
   ]
  },
  {
   "cell_type": "code",
   "execution_count": 175,
   "metadata": {},
   "outputs": [],
   "source": [
    "business_sample = checkin_df_sample.groupby('business_id').first().reset_index()\n",
    "business_sample = business_sample[[\"business_id\", \"latitude\", \"longitude\"]]\n"
   ]
  },
  {
   "cell_type": "code",
   "execution_count": 176,
   "metadata": {},
   "outputs": [],
   "source": [
    "user_df_sample = checkin_df_sample.groupby('user_id').size().reset_index(name='review_counts:float')\n",
    "checkin_df_sample = checkin_df_sample[[\"review_id\",\"user_id\",\"business_id\",\"timestamp\", \"checkin_count\"]]"
   ]
  },
  {
   "cell_type": "code",
   "execution_count": 177,
   "metadata": {},
   "outputs": [],
   "source": [
    "def convert_to_unix_timestamp(df, column_name):\n",
    "    \"\"\"\n",
    "    Convert a column of timestamps in a DataFrame to Unix timestamps.\n",
    "\n",
    "    Args:\n",
    "        df (pd.DataFrame): The DataFrame containing the timestamp column.\n",
    "        column_name (str): The name of the column with timestamps in \"%Y-%m-%d %H:%M:%S\" format.\n",
    "\n",
    "    Returns:\n",
    "        pd.DataFrame: The DataFrame with an additional column for Unix timestamps.\n",
    "    \"\"\"\n",
    "    # Convert the column to datetime objects\n",
    "    df[column_name] = pd.to_datetime(df[column_name], format=\"mixed\")\n",
    "    \n",
    "    # Convert datetime objects to Unix timestamps\n",
    "    df[f'{column_name}'] = df[column_name].apply(lambda x: x.timestamp())\n",
    "    \n",
    "    return df"
   ]
  },
  {
   "cell_type": "code",
   "execution_count": 178,
   "metadata": {},
   "outputs": [],
   "source": [
    "checkin_df_sample.rename(columns={\"user_id\":\"user_id:token\", \"business_id\":\"item_id:token\", \"checkin_count\":\"rating:float\", \"timestamp\":\"timestamp:float\", \"review_id\": \"review_id:token\"}, inplace=True)\n",
    "user_df_sample.rename(columns={\"user_id\":\"user_id:token\"}, inplace=True)"
   ]
  },
  {
   "cell_type": "code",
   "execution_count": 179,
   "metadata": {},
   "outputs": [],
   "source": [
    "checkin_df_sample = convert_to_unix_timestamp(checkin_df_sample, \"timestamp:float\")"
   ]
  },
  {
   "cell_type": "code",
   "execution_count": 180,
   "metadata": {},
   "outputs": [],
   "source": [
    "data_saver_recbole(checkin_df_sample, \"recbole\", \"inter\")\n",
    "data_saver_recbole(user_df_sample, \"recbole\", \"user\")\n",
    "data_saver_recbole(business_sample, \"recbole\", \"item\")"
   ]
  },
  {
   "cell_type": "code",
   "execution_count": 181,
   "metadata": {},
   "outputs": [],
   "source": [
    "# reverting to unix timestamps and only using the necessary columns\n",
    "review_df_sample = checkin_df_sample.copy()\n",
    "#ALMOST FINAL - STARS_BIN MUST BE REMOVED FOR checkins.txt AND date_unix FOR train/test/tune.txt\n",
    "checkins_capri_min = review_df_sample[[\"user_id:token\", \"item_id:token\", \"timestamp:float\"]]\n",
    "checkins_capri_train_test_tune = review_df_sample[[\"user_id:token\", \"item_id:token\", \"timestamp:float\", \"rating:float\"]]"
   ]
  },
  {
   "cell_type": "code",
   "execution_count": 182,
   "metadata": {},
   "outputs": [
    {
     "name": "stdout",
     "output_type": "stream",
     "text": [
      "Length of users:  1083\n",
      "Length of POIs:  5135\n"
     ]
    }
   ],
   "source": [
    "len(checkins_capri_min[\"user_id:token\"].unique())\n",
    "len(checkins_capri_min[\"item_id:token\"].unique())\n",
    "\n",
    "print(\"Length of users: \", len(checkins_capri_min[\"user_id:token\"].unique()))\n",
    "print(\"Length of POIs: \", len(checkins_capri_min[\"item_id:token\"].unique()))\n",
    "\n"
   ]
  },
  {
   "cell_type": "code",
   "execution_count": 183,
   "metadata": {},
   "outputs": [],
   "source": [
    "# FINAL 3\n",
    "datasize_capri = pd.DataFrame(data={\"num_users\" : [len(checkins_capri_min[\"user_id:token\"].unique())], \"num_items\" : [len(checkins_capri_min[\"item_id:token\"].unique())]})"
   ]
  },
  {
   "cell_type": "code",
   "execution_count": 184,
   "metadata": {},
   "outputs": [],
   "source": [
    "# FINAL 4\n",
    "poi_coos_capri = business_sample.copy()\n",
    "user_df_sample = pd.concat([high_pop_user_df_sample, medium_pop_user_df_sample, low_pop_user_df_sample])"
   ]
  },
  {
   "cell_type": "code",
   "execution_count": 185,
   "metadata": {},
   "outputs": [
    {
     "data": {
      "text/html": [
       "<div>\n",
       "<style scoped>\n",
       "    .dataframe tbody tr th:only-of-type {\n",
       "        vertical-align: middle;\n",
       "    }\n",
       "\n",
       "    .dataframe tbody tr th {\n",
       "        vertical-align: top;\n",
       "    }\n",
       "\n",
       "    .dataframe thead th {\n",
       "        text-align: right;\n",
       "    }\n",
       "</style>\n",
       "<table border=\"1\" class=\"dataframe\">\n",
       "  <thead>\n",
       "    <tr style=\"text-align: right;\">\n",
       "      <th></th>\n",
       "      <th>user_id:token</th>\n",
       "      <th>item_id:token</th>\n",
       "      <th>timestamp:float</th>\n",
       "    </tr>\n",
       "  </thead>\n",
       "  <tbody>\n",
       "    <tr>\n",
       "      <th>0</th>\n",
       "      <td>470</td>\n",
       "      <td>49bbd6c0f964a520f4531fe3</td>\n",
       "      <td>1.333476e+09</td>\n",
       "    </tr>\n",
       "    <tr>\n",
       "      <th>1</th>\n",
       "      <td>979</td>\n",
       "      <td>4a43c0aef964a520c6a61fe3</td>\n",
       "      <td>1.333476e+09</td>\n",
       "    </tr>\n",
       "    <tr>\n",
       "      <th>2</th>\n",
       "      <td>69</td>\n",
       "      <td>4c5cc7b485a1e21e00d35711</td>\n",
       "      <td>1.333476e+09</td>\n",
       "    </tr>\n",
       "    <tr>\n",
       "      <th>3</th>\n",
       "      <td>87</td>\n",
       "      <td>4cf2c5321d18a143951b5cec</td>\n",
       "      <td>1.333476e+09</td>\n",
       "    </tr>\n",
       "    <tr>\n",
       "      <th>4</th>\n",
       "      <td>642</td>\n",
       "      <td>4ab966c3f964a5203c7f20e3</td>\n",
       "      <td>1.333476e+09</td>\n",
       "    </tr>\n",
       "    <tr>\n",
       "      <th>...</th>\n",
       "      <td>...</td>\n",
       "      <td>...</td>\n",
       "      <td>...</td>\n",
       "    </tr>\n",
       "    <tr>\n",
       "      <th>147933</th>\n",
       "      <td>994</td>\n",
       "      <td>45850853f964a5209f3f1fe3</td>\n",
       "      <td>1.360982e+09</td>\n",
       "    </tr>\n",
       "    <tr>\n",
       "      <th>147934</th>\n",
       "      <td>688</td>\n",
       "      <td>3fd66200f964a52000e71ee3</td>\n",
       "      <td>1.360982e+09</td>\n",
       "    </tr>\n",
       "    <tr>\n",
       "      <th>147935</th>\n",
       "      <td>560</td>\n",
       "      <td>4bca32ff0687ef3be789dbcc</td>\n",
       "      <td>1.360982e+09</td>\n",
       "    </tr>\n",
       "    <tr>\n",
       "      <th>147936</th>\n",
       "      <td>945</td>\n",
       "      <td>50a77716e4b0b5a9492f6f56</td>\n",
       "      <td>1.360982e+09</td>\n",
       "    </tr>\n",
       "    <tr>\n",
       "      <th>147937</th>\n",
       "      <td>671</td>\n",
       "      <td>4514efe0f964a520e7391fe3</td>\n",
       "      <td>1.360982e+09</td>\n",
       "    </tr>\n",
       "  </tbody>\n",
       "</table>\n",
       "<p>147938 rows × 3 columns</p>\n",
       "</div>"
      ],
      "text/plain": [
       "        user_id:token             item_id:token  timestamp:float\n",
       "0                 470  49bbd6c0f964a520f4531fe3     1.333476e+09\n",
       "1                 979  4a43c0aef964a520c6a61fe3     1.333476e+09\n",
       "2                  69  4c5cc7b485a1e21e00d35711     1.333476e+09\n",
       "3                  87  4cf2c5321d18a143951b5cec     1.333476e+09\n",
       "4                 642  4ab966c3f964a5203c7f20e3     1.333476e+09\n",
       "...               ...                       ...              ...\n",
       "147933            994  45850853f964a5209f3f1fe3     1.360982e+09\n",
       "147934            688  3fd66200f964a52000e71ee3     1.360982e+09\n",
       "147935            560  4bca32ff0687ef3be789dbcc     1.360982e+09\n",
       "147936            945  50a77716e4b0b5a9492f6f56     1.360982e+09\n",
       "147937            671  4514efe0f964a520e7391fe3     1.360982e+09\n",
       "\n",
       "[147938 rows x 3 columns]"
      ]
     },
     "execution_count": 185,
     "metadata": {},
     "output_type": "execute_result"
    }
   ],
   "source": [
    "checkins_capri_min"
   ]
  },
  {
   "cell_type": "code",
   "execution_count": 186,
   "metadata": {},
   "outputs": [
    {
     "name": "stderr",
     "output_type": "stream",
     "text": [
      "/var/folders/9q/p0b6nwnd5071040x3849mdvc0000gn/T/ipykernel_2843/2059770268.py:1: SettingWithCopyWarning: \n",
      "A value is trying to be set on a copy of a slice from a DataFrame.\n",
      "Try using .loc[row_indexer,col_indexer] = value instead\n",
      "\n",
      "See the caveats in the documentation: https://pandas.pydata.org/pandas-docs/stable/user_guide/indexing.html#returning-a-view-versus-a-copy\n",
      "  checkins_capri_min['user_id_int'], user_id_map = pd.factorize(checkins_capri_min['user_id:token'])\n"
     ]
    }
   ],
   "source": [
    "checkins_capri_min['user_id_int'], user_id_map = pd.factorize(checkins_capri_min['user_id:token'])\n",
    "checkins_capri_min['business_id_int'], business_id_map = pd.factorize(checkins_capri_min['item_id:token'])\n",
    "# FINAL 2.0\n",
    "checkins_capri_min_int = checkins_capri_min[[\"user_id_int\", \"business_id_int\", \"timestamp:float\"]]"
   ]
  },
  {
   "cell_type": "code",
   "execution_count": 187,
   "metadata": {},
   "outputs": [
    {
     "data": {
      "text/html": [
       "<div>\n",
       "<style scoped>\n",
       "    .dataframe tbody tr th:only-of-type {\n",
       "        vertical-align: middle;\n",
       "    }\n",
       "\n",
       "    .dataframe tbody tr th {\n",
       "        vertical-align: top;\n",
       "    }\n",
       "\n",
       "    .dataframe thead th {\n",
       "        text-align: right;\n",
       "    }\n",
       "</style>\n",
       "<table border=\"1\" class=\"dataframe\">\n",
       "  <thead>\n",
       "    <tr style=\"text-align: right;\">\n",
       "      <th></th>\n",
       "      <th>user_id_int</th>\n",
       "      <th>business_id_int</th>\n",
       "      <th>timestamp:float</th>\n",
       "    </tr>\n",
       "  </thead>\n",
       "  <tbody>\n",
       "    <tr>\n",
       "      <th>0</th>\n",
       "      <td>0</td>\n",
       "      <td>0</td>\n",
       "      <td>1.333476e+09</td>\n",
       "    </tr>\n",
       "    <tr>\n",
       "      <th>1</th>\n",
       "      <td>1</td>\n",
       "      <td>1</td>\n",
       "      <td>1.333476e+09</td>\n",
       "    </tr>\n",
       "    <tr>\n",
       "      <th>2</th>\n",
       "      <td>2</td>\n",
       "      <td>2</td>\n",
       "      <td>1.333476e+09</td>\n",
       "    </tr>\n",
       "    <tr>\n",
       "      <th>3</th>\n",
       "      <td>3</td>\n",
       "      <td>3</td>\n",
       "      <td>1.333476e+09</td>\n",
       "    </tr>\n",
       "    <tr>\n",
       "      <th>4</th>\n",
       "      <td>4</td>\n",
       "      <td>4</td>\n",
       "      <td>1.333476e+09</td>\n",
       "    </tr>\n",
       "    <tr>\n",
       "      <th>...</th>\n",
       "      <td>...</td>\n",
       "      <td>...</td>\n",
       "      <td>...</td>\n",
       "    </tr>\n",
       "    <tr>\n",
       "      <th>147933</th>\n",
       "      <td>518</td>\n",
       "      <td>4150</td>\n",
       "      <td>1.360982e+09</td>\n",
       "    </tr>\n",
       "    <tr>\n",
       "      <th>147934</th>\n",
       "      <td>97</td>\n",
       "      <td>3682</td>\n",
       "      <td>1.360982e+09</td>\n",
       "    </tr>\n",
       "    <tr>\n",
       "      <th>147935</th>\n",
       "      <td>443</td>\n",
       "      <td>2476</td>\n",
       "      <td>1.360982e+09</td>\n",
       "    </tr>\n",
       "    <tr>\n",
       "      <th>147936</th>\n",
       "      <td>637</td>\n",
       "      <td>5073</td>\n",
       "      <td>1.360982e+09</td>\n",
       "    </tr>\n",
       "    <tr>\n",
       "      <th>147937</th>\n",
       "      <td>1063</td>\n",
       "      <td>3184</td>\n",
       "      <td>1.360982e+09</td>\n",
       "    </tr>\n",
       "  </tbody>\n",
       "</table>\n",
       "<p>147938 rows × 3 columns</p>\n",
       "</div>"
      ],
      "text/plain": [
       "        user_id_int  business_id_int  timestamp:float\n",
       "0                 0                0     1.333476e+09\n",
       "1                 1                1     1.333476e+09\n",
       "2                 2                2     1.333476e+09\n",
       "3                 3                3     1.333476e+09\n",
       "4                 4                4     1.333476e+09\n",
       "...             ...              ...              ...\n",
       "147933          518             4150     1.360982e+09\n",
       "147934           97             3682     1.360982e+09\n",
       "147935          443             2476     1.360982e+09\n",
       "147936          637             5073     1.360982e+09\n",
       "147937         1063             3184     1.360982e+09\n",
       "\n",
       "[147938 rows x 3 columns]"
      ]
     },
     "execution_count": 187,
     "metadata": {},
     "output_type": "execute_result"
    }
   ],
   "source": [
    "checkins_capri_min_int"
   ]
  },
  {
   "cell_type": "code",
   "execution_count": 188,
   "metadata": {},
   "outputs": [],
   "source": [
    "# Create mapping dictionaries\n",
    "user_id_mapping = {original: i for i, original in enumerate(user_id_map)}\n",
    "business_id_mapping = {original: i for i, original in enumerate(business_id_map)}\n"
   ]
  },
  {
   "cell_type": "code",
   "execution_count": 189,
   "metadata": {},
   "outputs": [],
   "source": [
    "poi_coos_capri[\"business_id_int\"] = poi_coos_capri[\"business_id\"].map(business_id_mapping)\n",
    "# FINAL 2.0\n",
    "poi_coos_capri_int = poi_coos_capri[[\"business_id_int\", \"latitude\", \"longitude\"]]"
   ]
  },
  {
   "cell_type": "code",
   "execution_count": 190,
   "metadata": {},
   "outputs": [],
   "source": [
    "checkins_capri_train_test_tune['user_id_int'] = checkins_capri_train_test_tune['user_id:token'].map(user_id_mapping)\n",
    "checkins_capri_train_test_tune['business_id_int'] = checkins_capri_train_test_tune['item_id:token'].map(business_id_mapping)"
   ]
  },
  {
   "cell_type": "code",
   "execution_count": 191,
   "metadata": {},
   "outputs": [],
   "source": [
    "checkins_capri_train_test_tune = checkins_capri_train_test_tune[[\"user_id_int\", \"business_id_int\", \"rating:float\", \"timestamp:float\"]]"
   ]
  },
  {
   "cell_type": "code",
   "execution_count": 192,
   "metadata": {},
   "outputs": [
    {
     "data": {
      "text/html": [
       "<div>\n",
       "<style scoped>\n",
       "    .dataframe tbody tr th:only-of-type {\n",
       "        vertical-align: middle;\n",
       "    }\n",
       "\n",
       "    .dataframe tbody tr th {\n",
       "        vertical-align: top;\n",
       "    }\n",
       "\n",
       "    .dataframe thead th {\n",
       "        text-align: right;\n",
       "    }\n",
       "</style>\n",
       "<table border=\"1\" class=\"dataframe\">\n",
       "  <thead>\n",
       "    <tr style=\"text-align: right;\">\n",
       "      <th></th>\n",
       "      <th>business_id_int</th>\n",
       "      <th>latitude</th>\n",
       "      <th>longitude</th>\n",
       "    </tr>\n",
       "  </thead>\n",
       "  <tbody>\n",
       "    <tr>\n",
       "      <th>0</th>\n",
       "      <td>3682</td>\n",
       "      <td>40.733596</td>\n",
       "      <td>-74.003139</td>\n",
       "    </tr>\n",
       "    <tr>\n",
       "      <th>1</th>\n",
       "      <td>322</td>\n",
       "      <td>40.756377</td>\n",
       "      <td>-73.967653</td>\n",
       "    </tr>\n",
       "    <tr>\n",
       "      <th>2</th>\n",
       "      <td>1914</td>\n",
       "      <td>40.739685</td>\n",
       "      <td>-74.006020</td>\n",
       "    </tr>\n",
       "    <tr>\n",
       "      <th>3</th>\n",
       "      <td>2334</td>\n",
       "      <td>40.718363</td>\n",
       "      <td>-73.990817</td>\n",
       "    </tr>\n",
       "    <tr>\n",
       "      <th>4</th>\n",
       "      <td>62</td>\n",
       "      <td>40.722842</td>\n",
       "      <td>-73.994116</td>\n",
       "    </tr>\n",
       "    <tr>\n",
       "      <th>...</th>\n",
       "      <td>...</td>\n",
       "      <td>...</td>\n",
       "      <td>...</td>\n",
       "    </tr>\n",
       "    <tr>\n",
       "      <th>5130</th>\n",
       "      <td>5126</td>\n",
       "      <td>40.743355</td>\n",
       "      <td>-73.932838</td>\n",
       "    </tr>\n",
       "    <tr>\n",
       "      <th>5131</th>\n",
       "      <td>5127</td>\n",
       "      <td>40.756945</td>\n",
       "      <td>-73.986011</td>\n",
       "    </tr>\n",
       "    <tr>\n",
       "      <th>5132</th>\n",
       "      <td>5132</td>\n",
       "      <td>40.889077</td>\n",
       "      <td>-74.108426</td>\n",
       "    </tr>\n",
       "    <tr>\n",
       "      <th>5133</th>\n",
       "      <td>5133</td>\n",
       "      <td>40.741677</td>\n",
       "      <td>-74.004831</td>\n",
       "    </tr>\n",
       "    <tr>\n",
       "      <th>5134</th>\n",
       "      <td>5085</td>\n",
       "      <td>40.757790</td>\n",
       "      <td>-73.981934</td>\n",
       "    </tr>\n",
       "  </tbody>\n",
       "</table>\n",
       "<p>5135 rows × 3 columns</p>\n",
       "</div>"
      ],
      "text/plain": [
       "      business_id_int   latitude  longitude\n",
       "0                3682  40.733596 -74.003139\n",
       "1                 322  40.756377 -73.967653\n",
       "2                1914  40.739685 -74.006020\n",
       "3                2334  40.718363 -73.990817\n",
       "4                  62  40.722842 -73.994116\n",
       "...               ...        ...        ...\n",
       "5130             5126  40.743355 -73.932838\n",
       "5131             5127  40.756945 -73.986011\n",
       "5132             5132  40.889077 -74.108426\n",
       "5133             5133  40.741677 -74.004831\n",
       "5134             5085  40.757790 -73.981934\n",
       "\n",
       "[5135 rows x 3 columns]"
      ]
     },
     "execution_count": 192,
     "metadata": {},
     "output_type": "execute_result"
    }
   ],
   "source": [
    "# FINAL\n",
    "checkins_capri_min_int\n",
    "datasize_capri\n",
    "poi_coos_capri_int\n"
   ]
  },
  {
   "cell_type": "code",
   "execution_count": 193,
   "metadata": {},
   "outputs": [
    {
     "data": {
      "text/html": [
       "<div>\n",
       "<style scoped>\n",
       "    .dataframe tbody tr th:only-of-type {\n",
       "        vertical-align: middle;\n",
       "    }\n",
       "\n",
       "    .dataframe tbody tr th {\n",
       "        vertical-align: top;\n",
       "    }\n",
       "\n",
       "    .dataframe thead th {\n",
       "        text-align: right;\n",
       "    }\n",
       "</style>\n",
       "<table border=\"1\" class=\"dataframe\">\n",
       "  <thead>\n",
       "    <tr style=\"text-align: right;\">\n",
       "      <th></th>\n",
       "      <th>user_id_int</th>\n",
       "      <th>business_id_int</th>\n",
       "      <th>rating:float</th>\n",
       "      <th>timestamp:float</th>\n",
       "    </tr>\n",
       "  </thead>\n",
       "  <tbody>\n",
       "    <tr>\n",
       "      <th>0</th>\n",
       "      <td>0</td>\n",
       "      <td>0</td>\n",
       "      <td>27</td>\n",
       "      <td>1.333476e+09</td>\n",
       "    </tr>\n",
       "    <tr>\n",
       "      <th>1</th>\n",
       "      <td>1</td>\n",
       "      <td>1</td>\n",
       "      <td>40</td>\n",
       "      <td>1.333476e+09</td>\n",
       "    </tr>\n",
       "    <tr>\n",
       "      <th>2</th>\n",
       "      <td>2</td>\n",
       "      <td>2</td>\n",
       "      <td>104</td>\n",
       "      <td>1.333476e+09</td>\n",
       "    </tr>\n",
       "    <tr>\n",
       "      <th>3</th>\n",
       "      <td>3</td>\n",
       "      <td>3</td>\n",
       "      <td>1</td>\n",
       "      <td>1.333476e+09</td>\n",
       "    </tr>\n",
       "    <tr>\n",
       "      <th>4</th>\n",
       "      <td>4</td>\n",
       "      <td>4</td>\n",
       "      <td>9</td>\n",
       "      <td>1.333476e+09</td>\n",
       "    </tr>\n",
       "    <tr>\n",
       "      <th>...</th>\n",
       "      <td>...</td>\n",
       "      <td>...</td>\n",
       "      <td>...</td>\n",
       "      <td>...</td>\n",
       "    </tr>\n",
       "    <tr>\n",
       "      <th>147933</th>\n",
       "      <td>518</td>\n",
       "      <td>4150</td>\n",
       "      <td>1</td>\n",
       "      <td>1.360982e+09</td>\n",
       "    </tr>\n",
       "    <tr>\n",
       "      <th>147934</th>\n",
       "      <td>97</td>\n",
       "      <td>3682</td>\n",
       "      <td>1</td>\n",
       "      <td>1.360982e+09</td>\n",
       "    </tr>\n",
       "    <tr>\n",
       "      <th>147935</th>\n",
       "      <td>443</td>\n",
       "      <td>2476</td>\n",
       "      <td>1</td>\n",
       "      <td>1.360982e+09</td>\n",
       "    </tr>\n",
       "    <tr>\n",
       "      <th>147936</th>\n",
       "      <td>637</td>\n",
       "      <td>5073</td>\n",
       "      <td>25</td>\n",
       "      <td>1.360982e+09</td>\n",
       "    </tr>\n",
       "    <tr>\n",
       "      <th>147937</th>\n",
       "      <td>1063</td>\n",
       "      <td>3184</td>\n",
       "      <td>2</td>\n",
       "      <td>1.360982e+09</td>\n",
       "    </tr>\n",
       "  </tbody>\n",
       "</table>\n",
       "<p>147938 rows × 4 columns</p>\n",
       "</div>"
      ],
      "text/plain": [
       "        user_id_int  business_id_int  rating:float  timestamp:float\n",
       "0                 0                0            27     1.333476e+09\n",
       "1                 1                1            40     1.333476e+09\n",
       "2                 2                2           104     1.333476e+09\n",
       "3                 3                3             1     1.333476e+09\n",
       "4                 4                4             9     1.333476e+09\n",
       "...             ...              ...           ...              ...\n",
       "147933          518             4150             1     1.360982e+09\n",
       "147934           97             3682             1     1.360982e+09\n",
       "147935          443             2476             1     1.360982e+09\n",
       "147936          637             5073            25     1.360982e+09\n",
       "147937         1063             3184             2     1.360982e+09\n",
       "\n",
       "[147938 rows x 4 columns]"
      ]
     },
     "execution_count": 193,
     "metadata": {},
     "output_type": "execute_result"
    }
   ],
   "source": [
    "checkins_capri_train_test_tune"
   ]
  },
  {
   "cell_type": "code",
   "execution_count": 194,
   "metadata": {},
   "outputs": [
    {
     "name": "stdout",
     "output_type": "stream",
     "text": [
      "Train Set:\n",
      "      user_id_int  business_id_int  rating:float\n",
      "0               0                0            27\n",
      "462             0              422             1\n",
      "1349            0                0            27\n",
      "2946            0             1452             1\n",
      "2948            0             1781             1\n",
      "\n",
      "Validation Set:\n",
      "       user_id_int  business_id_int  rating:float\n",
      "25386            0             3872            13\n",
      "25466            0                0            27\n",
      "26677            0             3872            13\n",
      "26735            0                0            27\n",
      "28254            0             3872            13\n",
      "\n",
      "Test Set:\n",
      "       user_id_int  business_id_int  rating:float\n",
      "33036            0                0            27\n",
      "33535            0             3872            13\n",
      "33590            0                0            27\n",
      "35013            0                0            27\n",
      "36041            0                0            27\n"
     ]
    }
   ],
   "source": [
    "# splitting the data into train, test, and tune\n",
    "checkins_capri_train_test_tune = checkins_capri_train_test_tune.sort_values(by=[\"user_id_int\", \"timestamp:float\"])\n",
    "checkins_capri_train_test_tune = checkins_capri_train_test_tune[[\"user_id_int\", \"business_id_int\", \"rating:float\"]]\n",
    "\n",
    "# Split the data\n",
    "train_list = []\n",
    "val_list = []\n",
    "test_list = []\n",
    "\n",
    "for user, group in checkins_capri_train_test_tune.groupby('user_id_int'):\n",
    "    n = len(group)\n",
    "    train_end = int(n * 0.65)\n",
    "    val_end = int(n * 0.80)\n",
    "    \n",
    "    train_list.append(group.iloc[:train_end])\n",
    "    val_list.append(group.iloc[train_end:val_end])\n",
    "    test_list.append(group.iloc[val_end:])\n",
    "\n",
    "# Combine lists into DataFrames\n",
    "train_df = pd.concat(train_list)\n",
    "val_df = pd.concat(val_list)\n",
    "test_df = pd.concat(test_list)\n",
    "\n",
    "\n",
    "\n",
    "# Check the splits\n",
    "\n",
    "# FINAL 6-8\n",
    "print(\"Train Set:\")\n",
    "print(train_df.head())\n",
    "print(\"\\nValidation Set:\")\n",
    "print(val_df.head())\n",
    "print(\"\\nTest Set:\")\n",
    "print(test_df.head())\n"
   ]
  },
  {
   "cell_type": "code",
   "execution_count": 195,
   "metadata": {},
   "outputs": [
    {
     "data": {
      "text/html": [
       "<div>\n",
       "<style scoped>\n",
       "    .dataframe tbody tr th:only-of-type {\n",
       "        vertical-align: middle;\n",
       "    }\n",
       "\n",
       "    .dataframe tbody tr th {\n",
       "        vertical-align: top;\n",
       "    }\n",
       "\n",
       "    .dataframe thead th {\n",
       "        text-align: right;\n",
       "    }\n",
       "</style>\n",
       "<table border=\"1\" class=\"dataframe\">\n",
       "  <thead>\n",
       "    <tr style=\"text-align: right;\">\n",
       "      <th></th>\n",
       "      <th>user_id_int</th>\n",
       "      <th>business_id_int</th>\n",
       "      <th>rating:float</th>\n",
       "    </tr>\n",
       "  </thead>\n",
       "  <tbody>\n",
       "    <tr>\n",
       "      <th>0</th>\n",
       "      <td>0</td>\n",
       "      <td>0</td>\n",
       "      <td>27</td>\n",
       "    </tr>\n",
       "    <tr>\n",
       "      <th>462</th>\n",
       "      <td>0</td>\n",
       "      <td>422</td>\n",
       "      <td>1</td>\n",
       "    </tr>\n",
       "    <tr>\n",
       "      <th>1349</th>\n",
       "      <td>0</td>\n",
       "      <td>0</td>\n",
       "      <td>27</td>\n",
       "    </tr>\n",
       "    <tr>\n",
       "      <th>2946</th>\n",
       "      <td>0</td>\n",
       "      <td>1452</td>\n",
       "      <td>1</td>\n",
       "    </tr>\n",
       "    <tr>\n",
       "      <th>2948</th>\n",
       "      <td>0</td>\n",
       "      <td>1781</td>\n",
       "      <td>1</td>\n",
       "    </tr>\n",
       "    <tr>\n",
       "      <th>...</th>\n",
       "      <td>...</td>\n",
       "      <td>...</td>\n",
       "      <td>...</td>\n",
       "    </tr>\n",
       "    <tr>\n",
       "      <th>138569</th>\n",
       "      <td>1082</td>\n",
       "      <td>5130</td>\n",
       "      <td>11</td>\n",
       "    </tr>\n",
       "    <tr>\n",
       "      <th>138570</th>\n",
       "      <td>1082</td>\n",
       "      <td>5131</td>\n",
       "      <td>10</td>\n",
       "    </tr>\n",
       "    <tr>\n",
       "      <th>138571</th>\n",
       "      <td>1082</td>\n",
       "      <td>2575</td>\n",
       "      <td>7</td>\n",
       "    </tr>\n",
       "    <tr>\n",
       "      <th>138605</th>\n",
       "      <td>1082</td>\n",
       "      <td>2463</td>\n",
       "      <td>5</td>\n",
       "    </tr>\n",
       "    <tr>\n",
       "      <th>139119</th>\n",
       "      <td>1082</td>\n",
       "      <td>3205</td>\n",
       "      <td>4</td>\n",
       "    </tr>\n",
       "  </tbody>\n",
       "</table>\n",
       "<p>95661 rows × 3 columns</p>\n",
       "</div>"
      ],
      "text/plain": [
       "        user_id_int  business_id_int  rating:float\n",
       "0                 0                0            27\n",
       "462               0              422             1\n",
       "1349              0                0            27\n",
       "2946              0             1452             1\n",
       "2948              0             1781             1\n",
       "...             ...              ...           ...\n",
       "138569         1082             5130            11\n",
       "138570         1082             5131            10\n",
       "138571         1082             2575             7\n",
       "138605         1082             2463             5\n",
       "139119         1082             3205             4\n",
       "\n",
       "[95661 rows x 3 columns]"
      ]
     },
     "execution_count": 195,
     "metadata": {},
     "output_type": "execute_result"
    }
   ],
   "source": [
    "train_df"
   ]
  },
  {
   "cell_type": "code",
   "execution_count": 196,
   "metadata": {},
   "outputs": [],
   "source": [
    "def datasaver_capri(df, filename):\n",
    "    \n",
    "    if not os.path.exists(DATASET_DIR + \"processed_data_capri\"):\n",
    "        os.makedirs(DATASET_DIR + \"processed_data_capri\")\n",
    "    \n",
    "    df.to_csv(DATASET_DIR + \"processed_data_capri/\" + filename + \".txt\", sep='\\t', index=False, header=False)\n",
    "    print(\"Data saved as \" + filename + \".txt\")\n",
    "    \n",
    "\n",
    "    \n"
   ]
  },
  {
   "cell_type": "code",
   "execution_count": 197,
   "metadata": {},
   "outputs": [
    {
     "name": "stdout",
     "output_type": "stream",
     "text": [
      "Data saved as checkins.txt\n",
      "Data saved as dataSize.txt\n",
      "Data saved as poiCoos.txt\n",
      "Data saved as train.txt\n",
      "Data saved as tune.txt\n",
      "Data saved as test.txt\n"
     ]
    }
   ],
   "source": [
    "datasaver_capri(checkins_capri_min_int, \"checkins\")\n",
    "datasaver_capri(datasize_capri, \"dataSize\")\n",
    "datasaver_capri(poi_coos_capri_int, \"poiCoos\")\n",
    "datasaver_capri(train_df, \"train\")\n",
    "datasaver_capri(val_df, \"tune\")\n",
    "datasaver_capri(test_df, \"test\")"
   ]
  }
 ],
 "metadata": {
  "kernelspec": {
   "display_name": "prep_venv",
   "language": "python",
   "name": "python3"
  },
  "language_info": {
   "codemirror_mode": {
    "name": "ipython",
    "version": 3
   },
   "file_extension": ".py",
   "mimetype": "text/x-python",
   "name": "python",
   "nbconvert_exporter": "python",
   "pygments_lexer": "ipython3",
   "version": "3.11.8"
  }
 },
 "nbformat": 4,
 "nbformat_minor": 2
}
